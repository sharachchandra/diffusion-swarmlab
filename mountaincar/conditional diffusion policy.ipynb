{
 "cells": [
  {
   "cell_type": "code",
   "execution_count": 15,
   "id": "84c50c0a",
   "metadata": {},
   "outputs": [],
   "source": [
    "import matplotlib.pyplot as plt\n",
    "\n",
    "import torch\n",
    "\n",
    "from torch.utils.data import DataLoader\n",
    "\n",
    "device = \"cuda\" if torch.cuda.is_available() else \"cpu\"\n",
    "\n",
    "from diffusion_framework.ddpm_1d import DDPM_1d\n",
    "from diffusion_framework.nets import ErrorNet, CondErrorNet\n",
    "\n",
    "from torch.optim import Adam\n",
    "import numpy as np\n",
    "\n",
    "import os\n",
    "import gym\n",
    "import numpy as np\n",
    "from stable_baselines3 import SAC\n",
    "from stable_baselines3.common.env_util import make_vec_env\n",
    "from stable_baselines3.common.vec_env import VecVideoRecorder, DummyVecEnv\n",
    "import platform\n",
    "if platform.system() == \"Linux\":\n",
    "    os.environ['PYOPENGL_PLATFORM'] = 'egl'\n",
    "\n",
    "### Select environment\n",
    "env_id = \"MountainCarContinuous-v0\"\n",
    "# Note that the algorithm is SAC\n",
    "\n",
    "gym_env = gym.make(env_id)\n",
    "max_obs_values = gym_env.observation_space.high\n",
    "min_obs_values = gym_env.observation_space.low\n",
    "\n",
    "max_act_value = gym_env.action_space.high\n",
    "min_act_value = gym_env.action_space.low\n",
    "\n",
    "bias = max_obs_values + min_obs_values\n",
    "bias = bias / 2\n",
    "scale = max_obs_values - min_obs_values\n",
    "scale = scale / 2\n",
    "\n",
    "env = make_vec_env(env_id, n_envs=1)\n",
    "best_model = SAC.load('/home/sai-admin/advanced_ml_project/rl-baselines3-zoo/rl-trained-agents/sac/' + \n",
    "                      env_id + '_1/' + \n",
    "                      env_id + '.zip', env=env)"
   ]
  },
  {
   "cell_type": "code",
   "execution_count": 36,
   "id": "525eadf3",
   "metadata": {},
   "outputs": [],
   "source": [
    "# Define data\n",
    "expert_demo_path = 'expert/logs/expert_demonstrations.npy'\n",
    "\n",
    "dataset = np.load(expert_demo_path, allow_pickle=True)\n",
    "dataset = torch.tensor(dataset, dtype=torch.float32)\n",
    "\n",
    "batch_size = 128\n",
    "dataloader = DataLoader(dataset, batch_size=batch_size, shuffle=True)\n",
    "\n",
    "# Define models\n",
    "timesteps = 100\n",
    "diffusion = DDPM_1d(timesteps)"
   ]
  },
  {
   "cell_type": "code",
   "execution_count": 38,
   "id": "4ca2719d",
   "metadata": {},
   "outputs": [],
   "source": [
    "# Visualizing corruption process\n",
    "\n",
    "# x_sample = dataset[:10000].unsqueeze(0)\n",
    "# t = torch.tensor([0,250,500,750,999])\n",
    "# out = diffusion.q_sample(x_sample, t)\n",
    "# N = 5\n",
    "# fig, ax = plt.subplots(1,5,figsize=(N*2,2))\n",
    "# for i in range(N):\n",
    "#     ax[i].scatter(out[i, :, 0], out[i, :, 1], s=2)\n",
    "#     ax[i].set_xlim(-1,1)\n",
    "#     ax[i].set_ylim(-1,1)\n",
    "# plt.tight_layout()"
   ]
  },
  {
   "cell_type": "code",
   "execution_count": 39,
   "id": "59bdfef6",
   "metadata": {},
   "outputs": [
    {
     "name": "stdout",
     "output_type": "stream",
     "text": [
      "cuda:0\n"
     ]
    },
    {
     "data": {
      "text/plain": [
       "CondErrorNet(\n",
       "  (time_mlp): Sequential(\n",
       "    (0): SinusoidalPositionEmbeddings()\n",
       "    (1): Linear(in_features=64, out_features=128, bias=True)\n",
       "    (2): GELU()\n",
       "    (3): Linear(in_features=128, out_features=64, bias=True)\n",
       "    (4): SiLU()\n",
       "    (5): Linear(in_features=64, out_features=2, bias=True)\n",
       "  )\n",
       "  (state_mlp): Sequential(\n",
       "    (0): Linear(in_features=3, out_features=64, bias=True)\n",
       "    (1): GELU()\n",
       "    (2): Linear(in_features=64, out_features=128, bias=True)\n",
       "    (3): GELU()\n",
       "    (4): Linear(in_features=128, out_features=64, bias=True)\n",
       "    (5): GELU()\n",
       "    (6): Linear(in_features=64, out_features=1, bias=True)\n",
       "  )\n",
       "  (res_mlp): Sequential(\n",
       "    (0): Linear(in_features=4, out_features=64, bias=True)\n",
       "    (1): SiLU()\n",
       "    (2): Linear(in_features=64, out_features=1, bias=True)\n",
       "  )\n",
       "  (final_mlp): Sequential(\n",
       "    (0): Linear(in_features=3, out_features=64, bias=True)\n",
       "    (1): GELU()\n",
       "    (2): Linear(in_features=64, out_features=128, bias=True)\n",
       "    (3): GELU()\n",
       "    (4): Linear(in_features=128, out_features=64, bias=True)\n",
       "    (5): GELU()\n",
       "    (6): Linear(in_features=64, out_features=1, bias=True)\n",
       "  )\n",
       ")"
      ]
     },
     "execution_count": 39,
     "metadata": {},
     "output_type": "execute_result"
    }
   ],
   "source": [
    "device = torch.device(\"cuda:0\" if torch.cuda.is_available() else \"cpu\")\n",
    "print(device)\n",
    "model = CondErrorNet(dim=1,cond_dim=2)\n",
    "model.to(device)\n",
    "\n",
    "optimizer = Adam(model.parameters(), lr=1e-4)\n",
    "model"
   ]
  },
  {
   "cell_type": "code",
   "execution_count": 40,
   "id": "036ebe6a",
   "metadata": {},
   "outputs": [
    {
     "name": "stdout",
     "output_type": "stream",
     "text": [
      "Epoch: 0, Loss: 0.430114\n",
      "Epoch: 0, Loss: 0.357732\n",
      "Epoch: 0, Loss: 0.217975\n",
      "Epoch: 0, Loss: 0.145122\n",
      "Epoch: 0, Loss: 0.206579\n",
      "Epoch: 0, Loss: 0.163589\n",
      "Epoch: 0, Loss: 0.171231\n",
      "Epoch: 0, Loss: 0.157102\n",
      "Epoch: 0, Loss: 0.162236\n",
      "Epoch: 0, Loss: 0.099001\n",
      "Epoch: 0, Loss: 0.136750\n",
      "Epoch: 0, Loss: 0.123100\n",
      "Epoch: 0, Loss: 0.086983\n",
      "Epoch: 0, Loss: 0.135005\n",
      "Epoch: 0, Loss: 0.161553\n",
      "Epoch: 0, Loss: 0.130541\n",
      "Epoch: 0, Loss: 0.114306\n",
      "Epoch: 0, Loss: 0.095399\n",
      "Epoch: 0, Loss: 0.103303\n",
      "Epoch: 0, Loss: 0.129993\n",
      "Epoch: 0, Loss: 0.109435\n",
      "Epoch: 0, Loss: 0.077038\n",
      "Epoch: 0, Loss: 0.091411\n",
      "Epoch: 0, Loss: 0.101343\n",
      "Epoch: 0, Loss: 0.076956\n",
      "Epoch: 0, Loss: 0.102985\n",
      "Epoch: 0, Loss: 0.083000\n",
      "Epoch: 0, Loss: 0.094485\n",
      "Epoch: 0, Loss: 0.099095\n",
      "Epoch: 0, Loss: 0.065592\n",
      "Epoch: 0, Loss: 0.060605\n",
      "Epoch: 0, Loss: 0.087256\n",
      "Epoch: 0, Loss: 0.074713\n",
      "Epoch: 0, Loss: 0.057595\n",
      "Epoch: 0, Loss: 0.066759\n",
      "Epoch: 0, Loss: 0.045417\n",
      "Epoch: 0, Loss: 0.055380\n",
      "Epoch: 0, Loss: 0.056336\n",
      "Epoch: 0, Loss: 0.050846\n",
      "Epoch: 0, Loss: 0.055994\n",
      "Epoch: 0, Loss: 0.035263\n",
      "Epoch: 0, Loss: 0.037117\n",
      "Epoch: 0, Loss: 0.034864\n",
      "Epoch: 0, Loss: 0.061358\n",
      "Epoch: 0, Loss: 0.035889\n",
      "Epoch: 0, Loss: 0.060355\n",
      "Epoch: 0, Loss: 0.052288\n",
      "Epoch: 0, Loss: 0.045207\n",
      "Epoch: 0, Loss: 0.048745\n",
      "Epoch: 0, Loss: 0.047701\n",
      "Epoch: 0, Loss: 0.063061\n",
      "Epoch: 0, Loss: 0.037781\n",
      "Epoch: 0, Loss: 0.049623\n",
      "Epoch: 0, Loss: 0.036047\n",
      "Epoch: 0, Loss: 0.048413\n",
      "Epoch: 0, Loss: 0.061177\n",
      "Epoch: 0, Loss: 0.030129\n",
      "Epoch: 0, Loss: 0.034026\n",
      "Epoch: 0, Loss: 0.016953\n",
      "Epoch: 0, Loss: 0.027498\n",
      "Epoch: 0, Loss: 0.036047\n",
      "Epoch: 0, Loss: 0.052694\n",
      "Epoch: 0, Loss: 0.025731\n",
      "Epoch: 0, Loss: 0.023874\n",
      "Epoch: 0, Loss: 0.022687\n",
      "Epoch: 0, Loss: 0.040922\n",
      "Epoch: 0, Loss: 0.025201\n",
      "Epoch: 0, Loss: 0.028408\n",
      "Epoch: 0, Loss: 0.034135\n",
      "Epoch: 0, Loss: 0.034514\n",
      "Epoch: 0, Loss: 0.021133\n",
      "Epoch: 0, Loss: 0.016906\n",
      "Epoch: 0, Loss: 0.040349\n",
      "Epoch: 0, Loss: 0.030215\n",
      "Epoch: 0, Loss: 0.010125\n",
      "Epoch: 0, Loss: 0.051847\n",
      "Epoch: 0, Loss: 0.032460\n",
      "Epoch: 0, Loss: 0.032278\n",
      "Epoch: 0, Loss: 0.025153\n",
      "Epoch: 1, Loss: 0.009325\n",
      "Epoch: 1, Loss: 0.015098\n",
      "Epoch: 1, Loss: 0.023735\n",
      "Epoch: 1, Loss: 0.011102\n",
      "Epoch: 1, Loss: 0.026053\n",
      "Epoch: 1, Loss: 0.016835\n",
      "Epoch: 1, Loss: 0.018464\n",
      "Epoch: 1, Loss: 0.020170\n",
      "Epoch: 1, Loss: 0.032420\n",
      "Epoch: 1, Loss: 0.022934\n",
      "Epoch: 1, Loss: 0.012225\n",
      "Epoch: 1, Loss: 0.053892\n",
      "Epoch: 1, Loss: 0.024664\n",
      "Epoch: 1, Loss: 0.024451\n",
      "Epoch: 1, Loss: 0.026910\n",
      "Epoch: 1, Loss: 0.043519\n",
      "Epoch: 1, Loss: 0.038188\n",
      "Epoch: 1, Loss: 0.042505\n",
      "Epoch: 1, Loss: 0.040639\n",
      "Epoch: 1, Loss: 0.033495\n",
      "Epoch: 1, Loss: 0.011790\n",
      "Epoch: 1, Loss: 0.019314\n",
      "Epoch: 1, Loss: 0.015234\n",
      "Epoch: 1, Loss: 0.035235\n",
      "Epoch: 1, Loss: 0.037559\n",
      "Epoch: 1, Loss: 0.007130\n",
      "Epoch: 1, Loss: 0.045106\n",
      "Epoch: 1, Loss: 0.045786\n",
      "Epoch: 1, Loss: 0.021844\n",
      "Epoch: 1, Loss: 0.033713\n",
      "Epoch: 1, Loss: 0.029224\n",
      "Epoch: 1, Loss: 0.031969\n",
      "Epoch: 1, Loss: 0.031074\n",
      "Epoch: 1, Loss: 0.021560\n",
      "Epoch: 1, Loss: 0.022478\n",
      "Epoch: 1, Loss: 0.029909\n",
      "Epoch: 1, Loss: 0.031988\n",
      "Epoch: 1, Loss: 0.016079\n",
      "Epoch: 1, Loss: 0.020272\n",
      "Epoch: 1, Loss: 0.034543\n",
      "Epoch: 1, Loss: 0.015753\n",
      "Epoch: 1, Loss: 0.026955\n",
      "Epoch: 1, Loss: 0.032581\n",
      "Epoch: 1, Loss: 0.036786\n",
      "Epoch: 1, Loss: 0.023313\n",
      "Epoch: 1, Loss: 0.020295\n",
      "Epoch: 1, Loss: 0.023879\n",
      "Epoch: 1, Loss: 0.014376\n",
      "Epoch: 1, Loss: 0.015010\n",
      "Epoch: 1, Loss: 0.034784\n",
      "Epoch: 1, Loss: 0.027947\n",
      "Epoch: 1, Loss: 0.019560\n",
      "Epoch: 1, Loss: 0.031176\n",
      "Epoch: 1, Loss: 0.029705\n",
      "Epoch: 1, Loss: 0.009022\n",
      "Epoch: 1, Loss: 0.015867\n",
      "Epoch: 1, Loss: 0.049943\n",
      "Epoch: 1, Loss: 0.012738\n",
      "Epoch: 1, Loss: 0.044102\n",
      "Epoch: 1, Loss: 0.012253\n",
      "Epoch: 1, Loss: 0.023331\n",
      "Epoch: 1, Loss: 0.020113\n",
      "Epoch: 1, Loss: 0.031289\n",
      "Epoch: 1, Loss: 0.030939\n",
      "Epoch: 1, Loss: 0.027171\n",
      "Epoch: 1, Loss: 0.028644\n",
      "Epoch: 1, Loss: 0.037560\n",
      "Epoch: 1, Loss: 0.025120\n",
      "Epoch: 1, Loss: 0.021293\n",
      "Epoch: 1, Loss: 0.021576\n",
      "Epoch: 1, Loss: 0.028345\n",
      "Epoch: 1, Loss: 0.024148\n",
      "Epoch: 1, Loss: 0.021324\n",
      "Epoch: 1, Loss: 0.037700\n",
      "Epoch: 1, Loss: 0.012506\n",
      "Epoch: 1, Loss: 0.032338\n",
      "Epoch: 1, Loss: 0.021119\n",
      "Epoch: 1, Loss: 0.024538\n",
      "Epoch: 1, Loss: 0.037329\n",
      "Epoch: 2, Loss: 0.028833\n",
      "Epoch: 2, Loss: 0.040967\n",
      "Epoch: 2, Loss: 0.011831\n",
      "Epoch: 2, Loss: 0.008807\n",
      "Epoch: 2, Loss: 0.028345\n",
      "Epoch: 2, Loss: 0.013693\n",
      "Epoch: 2, Loss: 0.027982\n",
      "Epoch: 2, Loss: 0.024741\n",
      "Epoch: 2, Loss: 0.016717\n",
      "Epoch: 2, Loss: 0.027858\n",
      "Epoch: 2, Loss: 0.026796\n",
      "Epoch: 2, Loss: 0.035291\n",
      "Epoch: 2, Loss: 0.018738\n",
      "Epoch: 2, Loss: 0.017681\n",
      "Epoch: 2, Loss: 0.018452\n",
      "Epoch: 2, Loss: 0.018581\n",
      "Epoch: 2, Loss: 0.009173\n",
      "Epoch: 2, Loss: 0.023105\n",
      "Epoch: 2, Loss: 0.012103\n",
      "Epoch: 2, Loss: 0.015590\n",
      "Epoch: 2, Loss: 0.020188\n",
      "Epoch: 2, Loss: 0.018512\n",
      "Epoch: 2, Loss: 0.011824\n",
      "Epoch: 2, Loss: 0.006944\n",
      "Epoch: 2, Loss: 0.013721\n",
      "Epoch: 2, Loss: 0.017735\n",
      "Epoch: 2, Loss: 0.046897\n",
      "Epoch: 2, Loss: 0.023370\n",
      "Epoch: 2, Loss: 0.020708\n",
      "Epoch: 2, Loss: 0.024625\n",
      "Epoch: 2, Loss: 0.051302\n",
      "Epoch: 2, Loss: 0.016952\n",
      "Epoch: 2, Loss: 0.025094\n",
      "Epoch: 2, Loss: 0.022319\n",
      "Epoch: 2, Loss: 0.023094\n",
      "Epoch: 2, Loss: 0.016616\n",
      "Epoch: 2, Loss: 0.023750\n",
      "Epoch: 2, Loss: 0.032968\n",
      "Epoch: 2, Loss: 0.013470\n",
      "Epoch: 2, Loss: 0.021090\n",
      "Epoch: 2, Loss: 0.008251\n",
      "Epoch: 2, Loss: 0.027025\n",
      "Epoch: 2, Loss: 0.029878\n",
      "Epoch: 2, Loss: 0.039996\n",
      "Epoch: 2, Loss: 0.031859\n",
      "Epoch: 2, Loss: 0.019702\n",
      "Epoch: 2, Loss: 0.030054\n",
      "Epoch: 2, Loss: 0.022840\n",
      "Epoch: 2, Loss: 0.055137\n",
      "Epoch: 2, Loss: 0.012765\n",
      "Epoch: 2, Loss: 0.014362\n",
      "Epoch: 2, Loss: 0.010288\n",
      "Epoch: 2, Loss: 0.019157\n",
      "Epoch: 2, Loss: 0.020637\n",
      "Epoch: 2, Loss: 0.016423\n",
      "Epoch: 2, Loss: 0.015742\n",
      "Epoch: 2, Loss: 0.008906\n",
      "Epoch: 2, Loss: 0.046596\n",
      "Epoch: 2, Loss: 0.019179\n",
      "Epoch: 2, Loss: 0.006942\n",
      "Epoch: 2, Loss: 0.013302\n",
      "Epoch: 2, Loss: 0.015481\n",
      "Epoch: 2, Loss: 0.034214\n",
      "Epoch: 2, Loss: 0.025084\n",
      "Epoch: 2, Loss: 0.019553\n",
      "Epoch: 2, Loss: 0.022424\n",
      "Epoch: 2, Loss: 0.017593\n",
      "Epoch: 2, Loss: 0.011220\n",
      "Epoch: 2, Loss: 0.023812\n",
      "Epoch: 2, Loss: 0.025061\n",
      "Epoch: 2, Loss: 0.016418\n",
      "Epoch: 2, Loss: 0.025924\n",
      "Epoch: 2, Loss: 0.026217\n",
      "Epoch: 2, Loss: 0.014386\n",
      "Epoch: 2, Loss: 0.018245\n",
      "Epoch: 2, Loss: 0.034101\n",
      "Epoch: 2, Loss: 0.009941\n",
      "Epoch: 2, Loss: 0.026569\n",
      "Epoch: 2, Loss: 0.051152\n",
      "Epoch: 3, Loss: 0.014547\n",
      "Epoch: 3, Loss: 0.008164\n",
      "Epoch: 3, Loss: 0.015711\n",
      "Epoch: 3, Loss: 0.023441\n",
      "Epoch: 3, Loss: 0.025742\n",
      "Epoch: 3, Loss: 0.028129\n",
      "Epoch: 3, Loss: 0.025461\n",
      "Epoch: 3, Loss: 0.053898\n",
      "Epoch: 3, Loss: 0.011717\n",
      "Epoch: 3, Loss: 0.015659\n",
      "Epoch: 3, Loss: 0.031238\n",
      "Epoch: 3, Loss: 0.016180\n",
      "Epoch: 3, Loss: 0.017232\n",
      "Epoch: 3, Loss: 0.019408\n",
      "Epoch: 3, Loss: 0.017526\n",
      "Epoch: 3, Loss: 0.018149\n",
      "Epoch: 3, Loss: 0.026043\n",
      "Epoch: 3, Loss: 0.008341\n",
      "Epoch: 3, Loss: 0.011658\n",
      "Epoch: 3, Loss: 0.027577\n",
      "Epoch: 3, Loss: 0.026786\n",
      "Epoch: 3, Loss: 0.007733\n",
      "Epoch: 3, Loss: 0.014886\n",
      "Epoch: 3, Loss: 0.038145\n",
      "Epoch: 3, Loss: 0.016158\n",
      "Epoch: 3, Loss: 0.018510\n",
      "Epoch: 3, Loss: 0.010100\n",
      "Epoch: 3, Loss: 0.015344\n",
      "Epoch: 3, Loss: 0.016447\n",
      "Epoch: 3, Loss: 0.009463\n",
      "Epoch: 3, Loss: 0.025412\n",
      "Epoch: 3, Loss: 0.010518\n",
      "Epoch: 3, Loss: 0.022048\n",
      "Epoch: 3, Loss: 0.022491\n",
      "Epoch: 3, Loss: 0.023273\n",
      "Epoch: 3, Loss: 0.016246\n",
      "Epoch: 3, Loss: 0.013576\n",
      "Epoch: 3, Loss: 0.021450\n",
      "Epoch: 3, Loss: 0.025607\n",
      "Epoch: 3, Loss: 0.022803\n",
      "Epoch: 3, Loss: 0.033128\n",
      "Epoch: 3, Loss: 0.017161\n",
      "Epoch: 3, Loss: 0.025896\n",
      "Epoch: 3, Loss: 0.025645\n",
      "Epoch: 3, Loss: 0.016742\n",
      "Epoch: 3, Loss: 0.005634\n",
      "Epoch: 3, Loss: 0.040643\n",
      "Epoch: 3, Loss: 0.030049\n",
      "Epoch: 3, Loss: 0.022063\n",
      "Epoch: 3, Loss: 0.030813\n",
      "Epoch: 3, Loss: 0.017687\n",
      "Epoch: 3, Loss: 0.025755\n",
      "Epoch: 3, Loss: 0.021421\n",
      "Epoch: 3, Loss: 0.017172\n",
      "Epoch: 3, Loss: 0.031184\n",
      "Epoch: 3, Loss: 0.014252\n",
      "Epoch: 3, Loss: 0.024593\n",
      "Epoch: 3, Loss: 0.027406\n",
      "Epoch: 3, Loss: 0.022965\n",
      "Epoch: 3, Loss: 0.049227\n",
      "Epoch: 3, Loss: 0.011314\n",
      "Epoch: 3, Loss: 0.020390\n",
      "Epoch: 3, Loss: 0.022763\n",
      "Epoch: 3, Loss: 0.028513\n",
      "Epoch: 3, Loss: 0.044149\n",
      "Epoch: 3, Loss: 0.021220\n",
      "Epoch: 3, Loss: 0.015634\n",
      "Epoch: 3, Loss: 0.014142\n",
      "Epoch: 3, Loss: 0.017956\n",
      "Epoch: 3, Loss: 0.028507\n",
      "Epoch: 3, Loss: 0.016693\n",
      "Epoch: 3, Loss: 0.022911\n",
      "Epoch: 3, Loss: 0.023502\n",
      "Epoch: 3, Loss: 0.025793\n",
      "Epoch: 3, Loss: 0.026158\n",
      "Epoch: 3, Loss: 0.021212\n",
      "Epoch: 3, Loss: 0.014802\n",
      "Epoch: 3, Loss: 0.030073\n",
      "Epoch: 3, Loss: 0.026232\n",
      "Epoch: 4, Loss: 0.038503\n",
      "Epoch: 4, Loss: 0.020086\n",
      "Epoch: 4, Loss: 0.023105\n",
      "Epoch: 4, Loss: 0.019952\n",
      "Epoch: 4, Loss: 0.012734\n",
      "Epoch: 4, Loss: 0.026514\n",
      "Epoch: 4, Loss: 0.038816\n",
      "Epoch: 4, Loss: 0.017800\n",
      "Epoch: 4, Loss: 0.019991\n",
      "Epoch: 4, Loss: 0.010437\n",
      "Epoch: 4, Loss: 0.008346\n",
      "Epoch: 4, Loss: 0.006427\n"
     ]
    },
    {
     "name": "stdout",
     "output_type": "stream",
     "text": [
      "Epoch: 4, Loss: 0.013671\n",
      "Epoch: 4, Loss: 0.016053\n",
      "Epoch: 4, Loss: 0.025013\n",
      "Epoch: 4, Loss: 0.028327\n",
      "Epoch: 4, Loss: 0.020766\n",
      "Epoch: 4, Loss: 0.012013\n",
      "Epoch: 4, Loss: 0.017137\n",
      "Epoch: 4, Loss: 0.027727\n",
      "Epoch: 4, Loss: 0.013306\n",
      "Epoch: 4, Loss: 0.013166\n",
      "Epoch: 4, Loss: 0.010040\n",
      "Epoch: 4, Loss: 0.032870\n",
      "Epoch: 4, Loss: 0.010741\n",
      "Epoch: 4, Loss: 0.016809\n",
      "Epoch: 4, Loss: 0.034235\n",
      "Epoch: 4, Loss: 0.021551\n",
      "Epoch: 4, Loss: 0.010542\n",
      "Epoch: 4, Loss: 0.025413\n",
      "Epoch: 4, Loss: 0.014254\n",
      "Epoch: 4, Loss: 0.019865\n",
      "Epoch: 4, Loss: 0.051387\n",
      "Epoch: 4, Loss: 0.019933\n",
      "Epoch: 4, Loss: 0.013534\n",
      "Epoch: 4, Loss: 0.022058\n",
      "Epoch: 4, Loss: 0.013166\n",
      "Epoch: 4, Loss: 0.027430\n",
      "Epoch: 4, Loss: 0.021431\n",
      "Epoch: 4, Loss: 0.019225\n",
      "Epoch: 4, Loss: 0.016859\n",
      "Epoch: 4, Loss: 0.015152\n",
      "Epoch: 4, Loss: 0.008568\n",
      "Epoch: 4, Loss: 0.021791\n",
      "Epoch: 4, Loss: 0.015998\n",
      "Epoch: 4, Loss: 0.021424\n",
      "Epoch: 4, Loss: 0.015685\n",
      "Epoch: 4, Loss: 0.024452\n",
      "Epoch: 4, Loss: 0.010634\n",
      "Epoch: 4, Loss: 0.010325\n",
      "Epoch: 4, Loss: 0.027455\n",
      "Epoch: 4, Loss: 0.023856\n",
      "Epoch: 4, Loss: 0.016134\n",
      "Epoch: 4, Loss: 0.012994\n",
      "Epoch: 4, Loss: 0.013172\n",
      "Epoch: 4, Loss: 0.014507\n",
      "Epoch: 4, Loss: 0.015097\n",
      "Epoch: 4, Loss: 0.018748\n",
      "Epoch: 4, Loss: 0.026133\n",
      "Epoch: 4, Loss: 0.009961\n",
      "Epoch: 4, Loss: 0.033196\n",
      "Epoch: 4, Loss: 0.025309\n",
      "Epoch: 4, Loss: 0.024218\n",
      "Epoch: 4, Loss: 0.007587\n",
      "Epoch: 4, Loss: 0.018709\n",
      "Epoch: 4, Loss: 0.018270\n",
      "Epoch: 4, Loss: 0.020839\n",
      "Epoch: 4, Loss: 0.026211\n",
      "Epoch: 4, Loss: 0.022207\n",
      "Epoch: 4, Loss: 0.008990\n",
      "Epoch: 4, Loss: 0.012862\n",
      "Epoch: 4, Loss: 0.011356\n",
      "Epoch: 4, Loss: 0.019496\n",
      "Epoch: 4, Loss: 0.017710\n",
      "Epoch: 4, Loss: 0.038565\n",
      "Epoch: 4, Loss: 0.010386\n",
      "Epoch: 4, Loss: 0.023355\n",
      "Epoch: 4, Loss: 0.025086\n",
      "Epoch: 4, Loss: 0.038496\n",
      "Epoch: 5, Loss: 0.052499\n",
      "Epoch: 5, Loss: 0.007963\n",
      "Epoch: 5, Loss: 0.025109\n",
      "Epoch: 5, Loss: 0.018089\n",
      "Epoch: 5, Loss: 0.032171\n",
      "Epoch: 5, Loss: 0.018759\n",
      "Epoch: 5, Loss: 0.011614\n",
      "Epoch: 5, Loss: 0.022890\n",
      "Epoch: 5, Loss: 0.034527\n",
      "Epoch: 5, Loss: 0.040269\n",
      "Epoch: 5, Loss: 0.011475\n",
      "Epoch: 5, Loss: 0.014382\n",
      "Epoch: 5, Loss: 0.021757\n",
      "Epoch: 5, Loss: 0.015448\n",
      "Epoch: 5, Loss: 0.014588\n",
      "Epoch: 5, Loss: 0.026055\n",
      "Epoch: 5, Loss: 0.029554\n",
      "Epoch: 5, Loss: 0.011024\n",
      "Epoch: 5, Loss: 0.017048\n",
      "Epoch: 5, Loss: 0.017019\n",
      "Epoch: 5, Loss: 0.016508\n",
      "Epoch: 5, Loss: 0.025675\n",
      "Epoch: 5, Loss: 0.005133\n",
      "Epoch: 5, Loss: 0.027799\n",
      "Epoch: 5, Loss: 0.011731\n",
      "Epoch: 5, Loss: 0.011892\n",
      "Epoch: 5, Loss: 0.015824\n",
      "Epoch: 5, Loss: 0.030895\n",
      "Epoch: 5, Loss: 0.019223\n",
      "Epoch: 5, Loss: 0.010748\n",
      "Epoch: 5, Loss: 0.023731\n",
      "Epoch: 5, Loss: 0.023262\n",
      "Epoch: 5, Loss: 0.035419\n",
      "Epoch: 5, Loss: 0.014396\n",
      "Epoch: 5, Loss: 0.004834\n",
      "Epoch: 5, Loss: 0.024743\n",
      "Epoch: 5, Loss: 0.009024\n",
      "Epoch: 5, Loss: 0.012465\n",
      "Epoch: 5, Loss: 0.012594\n",
      "Epoch: 5, Loss: 0.006267\n",
      "Epoch: 5, Loss: 0.013804\n",
      "Epoch: 5, Loss: 0.029586\n",
      "Epoch: 5, Loss: 0.012460\n",
      "Epoch: 5, Loss: 0.014603\n",
      "Epoch: 5, Loss: 0.025099\n",
      "Epoch: 5, Loss: 0.019630\n",
      "Epoch: 5, Loss: 0.026316\n",
      "Epoch: 5, Loss: 0.008127\n",
      "Epoch: 5, Loss: 0.013183\n",
      "Epoch: 5, Loss: 0.024859\n",
      "Epoch: 5, Loss: 0.018072\n",
      "Epoch: 5, Loss: 0.033140\n",
      "Epoch: 5, Loss: 0.042176\n",
      "Epoch: 5, Loss: 0.006120\n",
      "Epoch: 5, Loss: 0.026705\n",
      "Epoch: 5, Loss: 0.010161\n",
      "Epoch: 5, Loss: 0.015292\n",
      "Epoch: 5, Loss: 0.006411\n",
      "Epoch: 5, Loss: 0.006222\n",
      "Epoch: 5, Loss: 0.023749\n",
      "Epoch: 5, Loss: 0.018364\n",
      "Epoch: 5, Loss: 0.025019\n",
      "Epoch: 5, Loss: 0.033060\n",
      "Epoch: 5, Loss: 0.017079\n",
      "Epoch: 5, Loss: 0.011089\n",
      "Epoch: 5, Loss: 0.024735\n",
      "Epoch: 5, Loss: 0.013075\n",
      "Epoch: 5, Loss: 0.031157\n",
      "Epoch: 5, Loss: 0.026230\n",
      "Epoch: 5, Loss: 0.018132\n",
      "Epoch: 5, Loss: 0.010478\n",
      "Epoch: 5, Loss: 0.008456\n",
      "Epoch: 5, Loss: 0.024620\n",
      "Epoch: 5, Loss: 0.017827\n",
      "Epoch: 5, Loss: 0.013098\n",
      "Epoch: 5, Loss: 0.026839\n",
      "Epoch: 5, Loss: 0.017116\n",
      "Epoch: 5, Loss: 0.014257\n",
      "Epoch: 5, Loss: 0.019562\n",
      "Epoch: 6, Loss: 0.009993\n",
      "Epoch: 6, Loss: 0.019680\n",
      "Epoch: 6, Loss: 0.006045\n",
      "Epoch: 6, Loss: 0.019310\n",
      "Epoch: 6, Loss: 0.012868\n",
      "Epoch: 6, Loss: 0.012325\n",
      "Epoch: 6, Loss: 0.020461\n",
      "Epoch: 6, Loss: 0.016522\n",
      "Epoch: 6, Loss: 0.013112\n",
      "Epoch: 6, Loss: 0.007233\n",
      "Epoch: 6, Loss: 0.007463\n",
      "Epoch: 6, Loss: 0.019890\n",
      "Epoch: 6, Loss: 0.027568\n",
      "Epoch: 6, Loss: 0.011628\n",
      "Epoch: 6, Loss: 0.047890\n",
      "Epoch: 6, Loss: 0.009388\n",
      "Epoch: 6, Loss: 0.013116\n",
      "Epoch: 6, Loss: 0.011545\n",
      "Epoch: 6, Loss: 0.012632\n",
      "Epoch: 6, Loss: 0.014376\n",
      "Epoch: 6, Loss: 0.006545\n",
      "Epoch: 6, Loss: 0.025412\n",
      "Epoch: 6, Loss: 0.016063\n",
      "Epoch: 6, Loss: 0.014229\n",
      "Epoch: 6, Loss: 0.007001\n",
      "Epoch: 6, Loss: 0.030896\n",
      "Epoch: 6, Loss: 0.029863\n",
      "Epoch: 6, Loss: 0.010697\n",
      "Epoch: 6, Loss: 0.023416\n",
      "Epoch: 6, Loss: 0.018645\n",
      "Epoch: 6, Loss: 0.013543\n",
      "Epoch: 6, Loss: 0.014882\n",
      "Epoch: 6, Loss: 0.043884\n",
      "Epoch: 6, Loss: 0.017773\n",
      "Epoch: 6, Loss: 0.021986\n",
      "Epoch: 6, Loss: 0.006709\n",
      "Epoch: 6, Loss: 0.018844\n",
      "Epoch: 6, Loss: 0.031388\n",
      "Epoch: 6, Loss: 0.026435\n",
      "Epoch: 6, Loss: 0.033128\n",
      "Epoch: 6, Loss: 0.018721\n",
      "Epoch: 6, Loss: 0.011342\n",
      "Epoch: 6, Loss: 0.014509\n",
      "Epoch: 6, Loss: 0.019312\n",
      "Epoch: 6, Loss: 0.015637\n",
      "Epoch: 6, Loss: 0.020795\n",
      "Epoch: 6, Loss: 0.014971\n",
      "Epoch: 6, Loss: 0.008377\n",
      "Epoch: 6, Loss: 0.012219\n",
      "Epoch: 6, Loss: 0.014396\n",
      "Epoch: 6, Loss: 0.009293\n",
      "Epoch: 6, Loss: 0.032945\n",
      "Epoch: 6, Loss: 0.016900\n",
      "Epoch: 6, Loss: 0.006272\n",
      "Epoch: 6, Loss: 0.022824\n",
      "Epoch: 6, Loss: 0.012355\n",
      "Epoch: 6, Loss: 0.007818\n",
      "Epoch: 6, Loss: 0.008604\n",
      "Epoch: 6, Loss: 0.012606\n",
      "Epoch: 6, Loss: 0.010938\n",
      "Epoch: 6, Loss: 0.022547\n",
      "Epoch: 6, Loss: 0.021073\n",
      "Epoch: 6, Loss: 0.021944\n",
      "Epoch: 6, Loss: 0.012895\n",
      "Epoch: 6, Loss: 0.030299\n",
      "Epoch: 6, Loss: 0.020963\n",
      "Epoch: 6, Loss: 0.027531\n",
      "Epoch: 6, Loss: 0.019725\n",
      "Epoch: 6, Loss: 0.019393\n",
      "Epoch: 6, Loss: 0.029230\n",
      "Epoch: 6, Loss: 0.013708\n",
      "Epoch: 6, Loss: 0.011299\n",
      "Epoch: 6, Loss: 0.016743\n",
      "Epoch: 6, Loss: 0.032595\n",
      "Epoch: 6, Loss: 0.021444\n",
      "Epoch: 6, Loss: 0.020072\n",
      "Epoch: 6, Loss: 0.010954\n",
      "Epoch: 6, Loss: 0.011626\n",
      "Epoch: 6, Loss: 0.011099\n",
      "Epoch: 7, Loss: 0.027784\n",
      "Epoch: 7, Loss: 0.017972\n",
      "Epoch: 7, Loss: 0.016793\n",
      "Epoch: 7, Loss: 0.007508\n",
      "Epoch: 7, Loss: 0.014062\n",
      "Epoch: 7, Loss: 0.024217\n",
      "Epoch: 7, Loss: 0.011463\n",
      "Epoch: 7, Loss: 0.012255\n",
      "Epoch: 7, Loss: 0.035281\n",
      "Epoch: 7, Loss: 0.021308\n",
      "Epoch: 7, Loss: 0.006976\n",
      "Epoch: 7, Loss: 0.025652\n",
      "Epoch: 7, Loss: 0.010044\n",
      "Epoch: 7, Loss: 0.008085\n",
      "Epoch: 7, Loss: 0.016708\n",
      "Epoch: 7, Loss: 0.018779\n",
      "Epoch: 7, Loss: 0.005069\n",
      "Epoch: 7, Loss: 0.017686\n",
      "Epoch: 7, Loss: 0.024527\n",
      "Epoch: 7, Loss: 0.011785\n",
      "Epoch: 7, Loss: 0.019096\n",
      "Epoch: 7, Loss: 0.009174\n",
      "Epoch: 7, Loss: 0.016435\n",
      "Epoch: 7, Loss: 0.006890\n",
      "Epoch: 7, Loss: 0.021703\n",
      "Epoch: 7, Loss: 0.023457\n",
      "Epoch: 7, Loss: 0.009854\n",
      "Epoch: 7, Loss: 0.015322\n",
      "Epoch: 7, Loss: 0.026461\n",
      "Epoch: 7, Loss: 0.027395\n",
      "Epoch: 7, Loss: 0.007142\n",
      "Epoch: 7, Loss: 0.013772\n",
      "Epoch: 7, Loss: 0.032891\n",
      "Epoch: 7, Loss: 0.013178\n",
      "Epoch: 7, Loss: 0.036909\n",
      "Epoch: 7, Loss: 0.002453\n",
      "Epoch: 7, Loss: 0.014151\n",
      "Epoch: 7, Loss: 0.025903\n",
      "Epoch: 7, Loss: 0.012598\n",
      "Epoch: 7, Loss: 0.015742\n",
      "Epoch: 7, Loss: 0.019149\n",
      "Epoch: 7, Loss: 0.006082\n",
      "Epoch: 7, Loss: 0.015688\n",
      "Epoch: 7, Loss: 0.004049\n",
      "Epoch: 7, Loss: 0.014075\n",
      "Epoch: 7, Loss: 0.012880\n",
      "Epoch: 7, Loss: 0.024413\n",
      "Epoch: 7, Loss: 0.027741\n",
      "Epoch: 7, Loss: 0.008043\n",
      "Epoch: 7, Loss: 0.020492\n",
      "Epoch: 7, Loss: 0.017998\n",
      "Epoch: 7, Loss: 0.017909\n",
      "Epoch: 7, Loss: 0.013374\n",
      "Epoch: 7, Loss: 0.018254\n",
      "Epoch: 7, Loss: 0.018866\n",
      "Epoch: 7, Loss: 0.024432\n",
      "Epoch: 7, Loss: 0.009936\n",
      "Epoch: 7, Loss: 0.025803\n",
      "Epoch: 7, Loss: 0.008544\n",
      "Epoch: 7, Loss: 0.013546\n",
      "Epoch: 7, Loss: 0.021379\n",
      "Epoch: 7, Loss: 0.015297\n",
      "Epoch: 7, Loss: 0.025979\n",
      "Epoch: 7, Loss: 0.012377\n",
      "Epoch: 7, Loss: 0.008878\n",
      "Epoch: 7, Loss: 0.005776\n",
      "Epoch: 7, Loss: 0.013209\n",
      "Epoch: 7, Loss: 0.028880\n",
      "Epoch: 7, Loss: 0.012823\n",
      "Epoch: 7, Loss: 0.021156\n",
      "Epoch: 7, Loss: 0.005745\n",
      "Epoch: 7, Loss: 0.007332\n",
      "Epoch: 7, Loss: 0.006484\n",
      "Epoch: 7, Loss: 0.006125\n",
      "Epoch: 7, Loss: 0.009022\n",
      "Epoch: 7, Loss: 0.007397\n",
      "Epoch: 7, Loss: 0.018850\n",
      "Epoch: 7, Loss: 0.013828\n",
      "Epoch: 7, Loss: 0.015885\n",
      "Epoch: 8, Loss: 0.009164\n",
      "Epoch: 8, Loss: 0.005139\n",
      "Epoch: 8, Loss: 0.030132\n",
      "Epoch: 8, Loss: 0.018887\n",
      "Epoch: 8, Loss: 0.018117\n",
      "Epoch: 8, Loss: 0.017236\n",
      "Epoch: 8, Loss: 0.018346\n",
      "Epoch: 8, Loss: 0.018591\n",
      "Epoch: 8, Loss: 0.008657\n",
      "Epoch: 8, Loss: 0.007968\n",
      "Epoch: 8, Loss: 0.022726\n",
      "Epoch: 8, Loss: 0.027559\n",
      "Epoch: 8, Loss: 0.013556\n",
      "Epoch: 8, Loss: 0.008363\n",
      "Epoch: 8, Loss: 0.032382\n",
      "Epoch: 8, Loss: 0.007591\n",
      "Epoch: 8, Loss: 0.009544\n",
      "Epoch: 8, Loss: 0.015415\n",
      "Epoch: 8, Loss: 0.015116\n",
      "Epoch: 8, Loss: 0.007731\n",
      "Epoch: 8, Loss: 0.009831\n",
      "Epoch: 8, Loss: 0.030438\n",
      "Epoch: 8, Loss: 0.010063\n",
      "Epoch: 8, Loss: 0.004781\n"
     ]
    },
    {
     "name": "stdout",
     "output_type": "stream",
     "text": [
      "Epoch: 8, Loss: 0.023989\n",
      "Epoch: 8, Loss: 0.034135\n",
      "Epoch: 8, Loss: 0.025515\n",
      "Epoch: 8, Loss: 0.005622\n",
      "Epoch: 8, Loss: 0.016998\n",
      "Epoch: 8, Loss: 0.004387\n",
      "Epoch: 8, Loss: 0.003562\n",
      "Epoch: 8, Loss: 0.015082\n",
      "Epoch: 8, Loss: 0.019754\n",
      "Epoch: 8, Loss: 0.008440\n",
      "Epoch: 8, Loss: 0.012654\n",
      "Epoch: 8, Loss: 0.014601\n",
      "Epoch: 8, Loss: 0.004279\n",
      "Epoch: 8, Loss: 0.008896\n",
      "Epoch: 8, Loss: 0.009156\n",
      "Epoch: 8, Loss: 0.011961\n",
      "Epoch: 8, Loss: 0.005751\n",
      "Epoch: 8, Loss: 0.015179\n",
      "Epoch: 8, Loss: 0.023014\n",
      "Epoch: 8, Loss: 0.008555\n",
      "Epoch: 8, Loss: 0.010561\n",
      "Epoch: 8, Loss: 0.005550\n",
      "Epoch: 8, Loss: 0.016098\n",
      "Epoch: 8, Loss: 0.011278\n",
      "Epoch: 8, Loss: 0.008379\n",
      "Epoch: 8, Loss: 0.013069\n",
      "Epoch: 8, Loss: 0.021893\n",
      "Epoch: 8, Loss: 0.014761\n",
      "Epoch: 8, Loss: 0.012266\n",
      "Epoch: 8, Loss: 0.016863\n",
      "Epoch: 8, Loss: 0.009229\n",
      "Epoch: 8, Loss: 0.009660\n",
      "Epoch: 8, Loss: 0.010422\n",
      "Epoch: 8, Loss: 0.011213\n",
      "Epoch: 8, Loss: 0.013431\n",
      "Epoch: 8, Loss: 0.016112\n",
      "Epoch: 8, Loss: 0.009798\n",
      "Epoch: 8, Loss: 0.025606\n",
      "Epoch: 8, Loss: 0.010105\n",
      "Epoch: 8, Loss: 0.011880\n",
      "Epoch: 8, Loss: 0.014715\n",
      "Epoch: 8, Loss: 0.023879\n",
      "Epoch: 8, Loss: 0.021544\n",
      "Epoch: 8, Loss: 0.027648\n",
      "Epoch: 8, Loss: 0.015396\n",
      "Epoch: 8, Loss: 0.012356\n",
      "Epoch: 8, Loss: 0.009360\n",
      "Epoch: 8, Loss: 0.016876\n",
      "Epoch: 8, Loss: 0.017952\n",
      "Epoch: 8, Loss: 0.010527\n",
      "Epoch: 8, Loss: 0.007150\n",
      "Epoch: 8, Loss: 0.022644\n",
      "Epoch: 8, Loss: 0.016074\n",
      "Epoch: 8, Loss: 0.009066\n",
      "Epoch: 8, Loss: 0.008622\n",
      "Epoch: 9, Loss: 0.020875\n",
      "Epoch: 9, Loss: 0.005419\n",
      "Epoch: 9, Loss: 0.004081\n",
      "Epoch: 9, Loss: 0.011971\n",
      "Epoch: 9, Loss: 0.008373\n",
      "Epoch: 9, Loss: 0.008199\n",
      "Epoch: 9, Loss: 0.017048\n",
      "Epoch: 9, Loss: 0.012677\n",
      "Epoch: 9, Loss: 0.016562\n",
      "Epoch: 9, Loss: 0.017259\n",
      "Epoch: 9, Loss: 0.008591\n",
      "Epoch: 9, Loss: 0.009380\n",
      "Epoch: 9, Loss: 0.012220\n",
      "Epoch: 9, Loss: 0.015478\n",
      "Epoch: 9, Loss: 0.011797\n",
      "Epoch: 9, Loss: 0.019781\n",
      "Epoch: 9, Loss: 0.017134\n",
      "Epoch: 9, Loss: 0.013395\n",
      "Epoch: 9, Loss: 0.016673\n",
      "Epoch: 9, Loss: 0.013106\n",
      "Epoch: 9, Loss: 0.006388\n",
      "Epoch: 9, Loss: 0.017944\n",
      "Epoch: 9, Loss: 0.010473\n",
      "Epoch: 9, Loss: 0.009708\n",
      "Epoch: 9, Loss: 0.006079\n",
      "Epoch: 9, Loss: 0.013057\n",
      "Epoch: 9, Loss: 0.018217\n",
      "Epoch: 9, Loss: 0.028714\n",
      "Epoch: 9, Loss: 0.008638\n",
      "Epoch: 9, Loss: 0.017679\n",
      "Epoch: 9, Loss: 0.008692\n",
      "Epoch: 9, Loss: 0.009354\n",
      "Epoch: 9, Loss: 0.006406\n",
      "Epoch: 9, Loss: 0.022029\n",
      "Epoch: 9, Loss: 0.010880\n",
      "Epoch: 9, Loss: 0.007861\n",
      "Epoch: 9, Loss: 0.017030\n",
      "Epoch: 9, Loss: 0.004114\n",
      "Epoch: 9, Loss: 0.010334\n",
      "Epoch: 9, Loss: 0.011622\n",
      "Epoch: 9, Loss: 0.030043\n",
      "Epoch: 9, Loss: 0.004699\n",
      "Epoch: 9, Loss: 0.012348\n",
      "Epoch: 9, Loss: 0.005677\n",
      "Epoch: 9, Loss: 0.019935\n",
      "Epoch: 9, Loss: 0.018552\n",
      "Epoch: 9, Loss: 0.011176\n",
      "Epoch: 9, Loss: 0.011574\n",
      "Epoch: 9, Loss: 0.013498\n",
      "Epoch: 9, Loss: 0.006640\n",
      "Epoch: 9, Loss: 0.014054\n",
      "Epoch: 9, Loss: 0.018405\n",
      "Epoch: 9, Loss: 0.004130\n",
      "Epoch: 9, Loss: 0.006910\n",
      "Epoch: 9, Loss: 0.010483\n",
      "Epoch: 9, Loss: 0.014966\n",
      "Epoch: 9, Loss: 0.012192\n",
      "Epoch: 9, Loss: 0.021660\n",
      "Epoch: 9, Loss: 0.008114\n",
      "Epoch: 9, Loss: 0.019977\n",
      "Epoch: 9, Loss: 0.006090\n",
      "Epoch: 9, Loss: 0.015252\n",
      "Epoch: 9, Loss: 0.018197\n",
      "Epoch: 9, Loss: 0.008203\n",
      "Epoch: 9, Loss: 0.006443\n",
      "Epoch: 9, Loss: 0.015396\n",
      "Epoch: 9, Loss: 0.004843\n",
      "Epoch: 9, Loss: 0.011259\n",
      "Epoch: 9, Loss: 0.025226\n",
      "Epoch: 9, Loss: 0.033875\n",
      "Epoch: 9, Loss: 0.008663\n",
      "Epoch: 9, Loss: 0.015392\n",
      "Epoch: 9, Loss: 0.003635\n",
      "Epoch: 9, Loss: 0.011150\n",
      "Epoch: 9, Loss: 0.010133\n",
      "Epoch: 9, Loss: 0.006289\n",
      "Epoch: 9, Loss: 0.012406\n",
      "Epoch: 9, Loss: 0.012148\n",
      "Epoch: 9, Loss: 0.015832\n",
      "Epoch: 10, Loss: 0.007774\n",
      "Epoch: 10, Loss: 0.017055\n",
      "Epoch: 10, Loss: 0.019834\n",
      "Epoch: 10, Loss: 0.012995\n",
      "Epoch: 10, Loss: 0.012510\n",
      "Epoch: 10, Loss: 0.006407\n",
      "Epoch: 10, Loss: 0.010191\n",
      "Epoch: 10, Loss: 0.006821\n",
      "Epoch: 10, Loss: 0.019891\n",
      "Epoch: 10, Loss: 0.008250\n",
      "Epoch: 10, Loss: 0.017923\n",
      "Epoch: 10, Loss: 0.013534\n",
      "Epoch: 10, Loss: 0.015729\n",
      "Epoch: 10, Loss: 0.014323\n",
      "Epoch: 10, Loss: 0.010243\n",
      "Epoch: 10, Loss: 0.013737\n",
      "Epoch: 10, Loss: 0.007973\n",
      "Epoch: 10, Loss: 0.008198\n",
      "Epoch: 10, Loss: 0.011049\n",
      "Epoch: 10, Loss: 0.005476\n",
      "Epoch: 10, Loss: 0.008654\n",
      "Epoch: 10, Loss: 0.014599\n",
      "Epoch: 10, Loss: 0.012125\n",
      "Epoch: 10, Loss: 0.029366\n",
      "Epoch: 10, Loss: 0.005425\n",
      "Epoch: 10, Loss: 0.005491\n",
      "Epoch: 10, Loss: 0.022630\n",
      "Epoch: 10, Loss: 0.022847\n",
      "Epoch: 10, Loss: 0.010132\n",
      "Epoch: 10, Loss: 0.005256\n",
      "Epoch: 10, Loss: 0.007145\n",
      "Epoch: 10, Loss: 0.016092\n",
      "Epoch: 10, Loss: 0.011246\n",
      "Epoch: 10, Loss: 0.010199\n",
      "Epoch: 10, Loss: 0.020044\n",
      "Epoch: 10, Loss: 0.005812\n",
      "Epoch: 10, Loss: 0.017258\n",
      "Epoch: 10, Loss: 0.006707\n",
      "Epoch: 10, Loss: 0.007074\n",
      "Epoch: 10, Loss: 0.003237\n",
      "Epoch: 10, Loss: 0.024768\n",
      "Epoch: 10, Loss: 0.003611\n",
      "Epoch: 10, Loss: 0.011277\n",
      "Epoch: 10, Loss: 0.007024\n",
      "Epoch: 10, Loss: 0.014679\n",
      "Epoch: 10, Loss: 0.027268\n",
      "Epoch: 10, Loss: 0.006448\n",
      "Epoch: 10, Loss: 0.008395\n",
      "Epoch: 10, Loss: 0.005818\n",
      "Epoch: 10, Loss: 0.016345\n",
      "Epoch: 10, Loss: 0.003555\n",
      "Epoch: 10, Loss: 0.017884\n",
      "Epoch: 10, Loss: 0.015036\n",
      "Epoch: 10, Loss: 0.011098\n",
      "Epoch: 10, Loss: 0.019344\n",
      "Epoch: 10, Loss: 0.011718\n",
      "Epoch: 10, Loss: 0.012019\n",
      "Epoch: 10, Loss: 0.005000\n",
      "Epoch: 10, Loss: 0.005774\n",
      "Epoch: 10, Loss: 0.015155\n",
      "Epoch: 10, Loss: 0.009035\n",
      "Epoch: 10, Loss: 0.009260\n",
      "Epoch: 10, Loss: 0.006359\n",
      "Epoch: 10, Loss: 0.014873\n",
      "Epoch: 10, Loss: 0.016605\n",
      "Epoch: 10, Loss: 0.007175\n",
      "Epoch: 10, Loss: 0.005166\n",
      "Epoch: 10, Loss: 0.014509\n",
      "Epoch: 10, Loss: 0.010425\n",
      "Epoch: 10, Loss: 0.005970\n",
      "Epoch: 10, Loss: 0.022474\n",
      "Epoch: 10, Loss: 0.012420\n",
      "Epoch: 10, Loss: 0.010025\n",
      "Epoch: 10, Loss: 0.011899\n",
      "Epoch: 10, Loss: 0.014199\n",
      "Epoch: 10, Loss: 0.003410\n",
      "Epoch: 10, Loss: 0.015751\n",
      "Epoch: 10, Loss: 0.011129\n",
      "Epoch: 10, Loss: 0.005063\n",
      "Epoch: 11, Loss: 0.025503\n",
      "Epoch: 11, Loss: 0.007016\n",
      "Epoch: 11, Loss: 0.011152\n",
      "Epoch: 11, Loss: 0.007906\n",
      "Epoch: 11, Loss: 0.017869\n",
      "Epoch: 11, Loss: 0.006741\n",
      "Epoch: 11, Loss: 0.010386\n",
      "Epoch: 11, Loss: 0.044941\n",
      "Epoch: 11, Loss: 0.005178\n",
      "Epoch: 11, Loss: 0.009568\n",
      "Epoch: 11, Loss: 0.007607\n",
      "Epoch: 11, Loss: 0.020620\n",
      "Epoch: 11, Loss: 0.025145\n",
      "Epoch: 11, Loss: 0.017674\n",
      "Epoch: 11, Loss: 0.010231\n",
      "Epoch: 11, Loss: 0.013116\n",
      "Epoch: 11, Loss: 0.006047\n",
      "Epoch: 11, Loss: 0.014590\n",
      "Epoch: 11, Loss: 0.017331\n",
      "Epoch: 11, Loss: 0.012261\n",
      "Epoch: 11, Loss: 0.003920\n",
      "Epoch: 11, Loss: 0.012438\n",
      "Epoch: 11, Loss: 0.007410\n",
      "Epoch: 11, Loss: 0.005119\n",
      "Epoch: 11, Loss: 0.006385\n",
      "Epoch: 11, Loss: 0.005867\n",
      "Epoch: 11, Loss: 0.011405\n",
      "Epoch: 11, Loss: 0.014235\n",
      "Epoch: 11, Loss: 0.004231\n",
      "Epoch: 11, Loss: 0.024816\n",
      "Epoch: 11, Loss: 0.022803\n",
      "Epoch: 11, Loss: 0.006687\n",
      "Epoch: 11, Loss: 0.004292\n",
      "Epoch: 11, Loss: 0.011532\n",
      "Epoch: 11, Loss: 0.004450\n",
      "Epoch: 11, Loss: 0.008798\n",
      "Epoch: 11, Loss: 0.021777\n",
      "Epoch: 11, Loss: 0.019779\n",
      "Epoch: 11, Loss: 0.024995\n",
      "Epoch: 11, Loss: 0.012102\n",
      "Epoch: 11, Loss: 0.012406\n",
      "Epoch: 11, Loss: 0.011937\n",
      "Epoch: 11, Loss: 0.017356\n",
      "Epoch: 11, Loss: 0.014033\n",
      "Epoch: 11, Loss: 0.015147\n",
      "Epoch: 11, Loss: 0.008823\n",
      "Epoch: 11, Loss: 0.004909\n",
      "Epoch: 11, Loss: 0.004543\n",
      "Epoch: 11, Loss: 0.009446\n",
      "Epoch: 11, Loss: 0.036663\n",
      "Epoch: 11, Loss: 0.027971\n",
      "Epoch: 11, Loss: 0.012014\n",
      "Epoch: 11, Loss: 0.016883\n",
      "Epoch: 11, Loss: 0.004347\n",
      "Epoch: 11, Loss: 0.010201\n",
      "Epoch: 11, Loss: 0.020921\n",
      "Epoch: 11, Loss: 0.004978\n",
      "Epoch: 11, Loss: 0.007191\n",
      "Epoch: 11, Loss: 0.007981\n",
      "Epoch: 11, Loss: 0.010208\n",
      "Epoch: 11, Loss: 0.007024\n",
      "Epoch: 11, Loss: 0.013556\n",
      "Epoch: 11, Loss: 0.007904\n",
      "Epoch: 11, Loss: 0.010210\n",
      "Epoch: 11, Loss: 0.008724\n",
      "Epoch: 11, Loss: 0.008203\n",
      "Epoch: 11, Loss: 0.013685\n",
      "Epoch: 11, Loss: 0.010469\n",
      "Epoch: 11, Loss: 0.015188\n",
      "Epoch: 11, Loss: 0.010529\n",
      "Epoch: 11, Loss: 0.015066\n",
      "Epoch: 11, Loss: 0.018570\n",
      "Epoch: 11, Loss: 0.012620\n",
      "Epoch: 11, Loss: 0.013812\n",
      "Epoch: 11, Loss: 0.004441\n",
      "Epoch: 11, Loss: 0.018795\n",
      "Epoch: 11, Loss: 0.003556\n",
      "Epoch: 11, Loss: 0.013460\n",
      "Epoch: 11, Loss: 0.017522\n",
      "Epoch: 12, Loss: 0.021278\n",
      "Epoch: 12, Loss: 0.007246\n",
      "Epoch: 12, Loss: 0.006720\n",
      "Epoch: 12, Loss: 0.014852\n",
      "Epoch: 12, Loss: 0.008755\n",
      "Epoch: 12, Loss: 0.009344\n",
      "Epoch: 12, Loss: 0.008246\n",
      "Epoch: 12, Loss: 0.011090\n",
      "Epoch: 12, Loss: 0.016735\n",
      "Epoch: 12, Loss: 0.010167\n",
      "Epoch: 12, Loss: 0.013863\n",
      "Epoch: 12, Loss: 0.006693\n",
      "Epoch: 12, Loss: 0.010825\n",
      "Epoch: 12, Loss: 0.018352\n",
      "Epoch: 12, Loss: 0.014478\n",
      "Epoch: 12, Loss: 0.022372\n",
      "Epoch: 12, Loss: 0.022146\n",
      "Epoch: 12, Loss: 0.016011\n",
      "Epoch: 12, Loss: 0.010493\n",
      "Epoch: 12, Loss: 0.009958\n",
      "Epoch: 12, Loss: 0.018262\n",
      "Epoch: 12, Loss: 0.021624\n",
      "Epoch: 12, Loss: 0.020718\n",
      "Epoch: 12, Loss: 0.012411\n",
      "Epoch: 12, Loss: 0.004642\n",
      "Epoch: 12, Loss: 0.006750\n",
      "Epoch: 12, Loss: 0.005265\n",
      "Epoch: 12, Loss: 0.008578\n",
      "Epoch: 12, Loss: 0.014388\n"
     ]
    },
    {
     "name": "stdout",
     "output_type": "stream",
     "text": [
      "Epoch: 12, Loss: 0.010170\n",
      "Epoch: 12, Loss: 0.005123\n",
      "Epoch: 12, Loss: 0.008568\n",
      "Epoch: 12, Loss: 0.012900\n",
      "Epoch: 12, Loss: 0.009857\n",
      "Epoch: 12, Loss: 0.007693\n",
      "Epoch: 12, Loss: 0.007165\n",
      "Epoch: 12, Loss: 0.004209\n",
      "Epoch: 12, Loss: 0.012198\n",
      "Epoch: 12, Loss: 0.007672\n",
      "Epoch: 12, Loss: 0.014557\n",
      "Epoch: 12, Loss: 0.012632\n",
      "Epoch: 12, Loss: 0.008377\n",
      "Epoch: 12, Loss: 0.005519\n",
      "Epoch: 12, Loss: 0.013161\n",
      "Epoch: 12, Loss: 0.012123\n",
      "Epoch: 12, Loss: 0.011639\n",
      "Epoch: 12, Loss: 0.004345\n",
      "Epoch: 12, Loss: 0.003349\n",
      "Epoch: 12, Loss: 0.008645\n",
      "Epoch: 12, Loss: 0.008030\n",
      "Epoch: 12, Loss: 0.014844\n",
      "Epoch: 12, Loss: 0.010861\n",
      "Epoch: 12, Loss: 0.009066\n",
      "Epoch: 12, Loss: 0.013532\n",
      "Epoch: 12, Loss: 0.007548\n",
      "Epoch: 12, Loss: 0.012695\n",
      "Epoch: 12, Loss: 0.003910\n",
      "Epoch: 12, Loss: 0.005475\n",
      "Epoch: 12, Loss: 0.005302\n",
      "Epoch: 12, Loss: 0.006338\n",
      "Epoch: 12, Loss: 0.019589\n",
      "Epoch: 12, Loss: 0.004839\n",
      "Epoch: 12, Loss: 0.021625\n",
      "Epoch: 12, Loss: 0.013311\n",
      "Epoch: 12, Loss: 0.022571\n",
      "Epoch: 12, Loss: 0.002953\n",
      "Epoch: 12, Loss: 0.014674\n",
      "Epoch: 12, Loss: 0.003683\n",
      "Epoch: 12, Loss: 0.019953\n",
      "Epoch: 12, Loss: 0.006378\n",
      "Epoch: 12, Loss: 0.007858\n",
      "Epoch: 12, Loss: 0.011413\n",
      "Epoch: 12, Loss: 0.010024\n",
      "Epoch: 12, Loss: 0.007220\n",
      "Epoch: 12, Loss: 0.011568\n",
      "Epoch: 12, Loss: 0.021660\n",
      "Epoch: 12, Loss: 0.023730\n",
      "Epoch: 12, Loss: 0.013692\n",
      "Epoch: 12, Loss: 0.014137\n",
      "Epoch: 13, Loss: 0.009268\n",
      "Epoch: 13, Loss: 0.005220\n",
      "Epoch: 13, Loss: 0.004971\n",
      "Epoch: 13, Loss: 0.004591\n",
      "Epoch: 13, Loss: 0.020486\n",
      "Epoch: 13, Loss: 0.009899\n",
      "Epoch: 13, Loss: 0.009798\n",
      "Epoch: 13, Loss: 0.010006\n",
      "Epoch: 13, Loss: 0.004935\n",
      "Epoch: 13, Loss: 0.012030\n",
      "Epoch: 13, Loss: 0.006704\n",
      "Epoch: 13, Loss: 0.011560\n",
      "Epoch: 13, Loss: 0.011867\n",
      "Epoch: 13, Loss: 0.004105\n",
      "Epoch: 13, Loss: 0.005927\n",
      "Epoch: 13, Loss: 0.008050\n",
      "Epoch: 13, Loss: 0.019222\n",
      "Epoch: 13, Loss: 0.015613\n",
      "Epoch: 13, Loss: 0.013777\n",
      "Epoch: 13, Loss: 0.009191\n",
      "Epoch: 13, Loss: 0.006068\n",
      "Epoch: 13, Loss: 0.008936\n",
      "Epoch: 13, Loss: 0.010522\n",
      "Epoch: 13, Loss: 0.006148\n",
      "Epoch: 13, Loss: 0.004902\n",
      "Epoch: 13, Loss: 0.007003\n",
      "Epoch: 13, Loss: 0.009040\n",
      "Epoch: 13, Loss: 0.006474\n",
      "Epoch: 13, Loss: 0.008197\n",
      "Epoch: 13, Loss: 0.010487\n",
      "Epoch: 13, Loss: 0.025449\n",
      "Epoch: 13, Loss: 0.019521\n",
      "Epoch: 13, Loss: 0.016668\n",
      "Epoch: 13, Loss: 0.019621\n",
      "Epoch: 13, Loss: 0.011134\n",
      "Epoch: 13, Loss: 0.010956\n",
      "Epoch: 13, Loss: 0.011509\n",
      "Epoch: 13, Loss: 0.008122\n",
      "Epoch: 13, Loss: 0.028025\n",
      "Epoch: 13, Loss: 0.012089\n",
      "Epoch: 13, Loss: 0.011416\n",
      "Epoch: 13, Loss: 0.012065\n",
      "Epoch: 13, Loss: 0.008694\n",
      "Epoch: 13, Loss: 0.020091\n",
      "Epoch: 13, Loss: 0.008308\n",
      "Epoch: 13, Loss: 0.009728\n",
      "Epoch: 13, Loss: 0.007038\n",
      "Epoch: 13, Loss: 0.011054\n",
      "Epoch: 13, Loss: 0.007113\n",
      "Epoch: 13, Loss: 0.022309\n",
      "Epoch: 13, Loss: 0.004611\n",
      "Epoch: 13, Loss: 0.006137\n",
      "Epoch: 13, Loss: 0.010836\n",
      "Epoch: 13, Loss: 0.012545\n",
      "Epoch: 13, Loss: 0.006343\n",
      "Epoch: 13, Loss: 0.006779\n",
      "Epoch: 13, Loss: 0.003548\n",
      "Epoch: 13, Loss: 0.015093\n",
      "Epoch: 13, Loss: 0.005919\n",
      "Epoch: 13, Loss: 0.007841\n",
      "Epoch: 13, Loss: 0.002979\n",
      "Epoch: 13, Loss: 0.037053\n",
      "Epoch: 13, Loss: 0.010526\n",
      "Epoch: 13, Loss: 0.005404\n",
      "Epoch: 13, Loss: 0.004406\n",
      "Epoch: 13, Loss: 0.010670\n",
      "Epoch: 13, Loss: 0.008037\n",
      "Epoch: 13, Loss: 0.006315\n",
      "Epoch: 13, Loss: 0.012062\n",
      "Epoch: 13, Loss: 0.007858\n",
      "Epoch: 13, Loss: 0.017015\n",
      "Epoch: 13, Loss: 0.006263\n",
      "Epoch: 13, Loss: 0.024653\n",
      "Epoch: 13, Loss: 0.007934\n",
      "Epoch: 13, Loss: 0.041627\n",
      "Epoch: 13, Loss: 0.008979\n",
      "Epoch: 13, Loss: 0.023649\n",
      "Epoch: 13, Loss: 0.003770\n",
      "Epoch: 13, Loss: 0.035295\n",
      "Epoch: 14, Loss: 0.010831\n",
      "Epoch: 14, Loss: 0.003715\n",
      "Epoch: 14, Loss: 0.003774\n",
      "Epoch: 14, Loss: 0.013354\n",
      "Epoch: 14, Loss: 0.024092\n",
      "Epoch: 14, Loss: 0.005451\n",
      "Epoch: 14, Loss: 0.004297\n",
      "Epoch: 14, Loss: 0.006127\n",
      "Epoch: 14, Loss: 0.006808\n",
      "Epoch: 14, Loss: 0.015597\n",
      "Epoch: 14, Loss: 0.021297\n",
      "Epoch: 14, Loss: 0.014154\n",
      "Epoch: 14, Loss: 0.005158\n",
      "Epoch: 14, Loss: 0.009361\n",
      "Epoch: 14, Loss: 0.015978\n",
      "Epoch: 14, Loss: 0.021270\n",
      "Epoch: 14, Loss: 0.007377\n",
      "Epoch: 14, Loss: 0.015031\n",
      "Epoch: 14, Loss: 0.007497\n",
      "Epoch: 14, Loss: 0.012033\n",
      "Epoch: 14, Loss: 0.005346\n",
      "Epoch: 14, Loss: 0.004525\n",
      "Epoch: 14, Loss: 0.008070\n",
      "Epoch: 14, Loss: 0.007839\n",
      "Epoch: 14, Loss: 0.006976\n",
      "Epoch: 14, Loss: 0.009036\n",
      "Epoch: 14, Loss: 0.009184\n",
      "Epoch: 14, Loss: 0.005104\n",
      "Epoch: 14, Loss: 0.008781\n",
      "Epoch: 14, Loss: 0.020749\n",
      "Epoch: 14, Loss: 0.011447\n",
      "Epoch: 14, Loss: 0.006007\n",
      "Epoch: 14, Loss: 0.008717\n",
      "Epoch: 14, Loss: 0.014858\n",
      "Epoch: 14, Loss: 0.007076\n",
      "Epoch: 14, Loss: 0.006444\n",
      "Epoch: 14, Loss: 0.008225\n",
      "Epoch: 14, Loss: 0.010030\n",
      "Epoch: 14, Loss: 0.017144\n",
      "Epoch: 14, Loss: 0.007229\n",
      "Epoch: 14, Loss: 0.017537\n",
      "Epoch: 14, Loss: 0.003136\n",
      "Epoch: 14, Loss: 0.006909\n",
      "Epoch: 14, Loss: 0.019128\n",
      "Epoch: 14, Loss: 0.008069\n",
      "Epoch: 14, Loss: 0.004013\n",
      "Epoch: 14, Loss: 0.010797\n",
      "Epoch: 14, Loss: 0.005806\n",
      "Epoch: 14, Loss: 0.010795\n",
      "Epoch: 14, Loss: 0.006740\n",
      "Epoch: 14, Loss: 0.015701\n",
      "Epoch: 14, Loss: 0.005605\n",
      "Epoch: 14, Loss: 0.006549\n",
      "Epoch: 14, Loss: 0.010505\n",
      "Epoch: 14, Loss: 0.002558\n",
      "Epoch: 14, Loss: 0.015176\n",
      "Epoch: 14, Loss: 0.012442\n",
      "Epoch: 14, Loss: 0.011929\n",
      "Epoch: 14, Loss: 0.006182\n",
      "Epoch: 14, Loss: 0.004704\n",
      "Epoch: 14, Loss: 0.018624\n",
      "Epoch: 14, Loss: 0.002129\n",
      "Epoch: 14, Loss: 0.009910\n",
      "Epoch: 14, Loss: 0.006061\n",
      "Epoch: 14, Loss: 0.017865\n",
      "Epoch: 14, Loss: 0.005628\n",
      "Epoch: 14, Loss: 0.005130\n",
      "Epoch: 14, Loss: 0.023057\n",
      "Epoch: 14, Loss: 0.004677\n",
      "Epoch: 14, Loss: 0.007870\n",
      "Epoch: 14, Loss: 0.007336\n",
      "Epoch: 14, Loss: 0.006178\n",
      "Epoch: 14, Loss: 0.015220\n",
      "Epoch: 14, Loss: 0.004174\n",
      "Epoch: 14, Loss: 0.016218\n",
      "Epoch: 14, Loss: 0.020759\n",
      "Epoch: 14, Loss: 0.006104\n",
      "Epoch: 14, Loss: 0.007768\n",
      "Epoch: 14, Loss: 0.011930\n",
      "Epoch: 15, Loss: 0.007410\n",
      "Epoch: 15, Loss: 0.007714\n",
      "Epoch: 15, Loss: 0.011621\n",
      "Epoch: 15, Loss: 0.012007\n",
      "Epoch: 15, Loss: 0.019723\n",
      "Epoch: 15, Loss: 0.002594\n",
      "Epoch: 15, Loss: 0.005582\n",
      "Epoch: 15, Loss: 0.003235\n",
      "Epoch: 15, Loss: 0.008887\n",
      "Epoch: 15, Loss: 0.004658\n",
      "Epoch: 15, Loss: 0.013306\n",
      "Epoch: 15, Loss: 0.006435\n",
      "Epoch: 15, Loss: 0.001979\n",
      "Epoch: 15, Loss: 0.004409\n",
      "Epoch: 15, Loss: 0.007073\n",
      "Epoch: 15, Loss: 0.009262\n",
      "Epoch: 15, Loss: 0.006729\n",
      "Epoch: 15, Loss: 0.010028\n",
      "Epoch: 15, Loss: 0.004971\n",
      "Epoch: 15, Loss: 0.007969\n",
      "Epoch: 15, Loss: 0.018371\n",
      "Epoch: 15, Loss: 0.004686\n",
      "Epoch: 15, Loss: 0.004883\n",
      "Epoch: 15, Loss: 0.015837\n",
      "Epoch: 15, Loss: 0.004965\n",
      "Epoch: 15, Loss: 0.002452\n",
      "Epoch: 15, Loss: 0.011822\n",
      "Epoch: 15, Loss: 0.003800\n",
      "Epoch: 15, Loss: 0.010702\n",
      "Epoch: 15, Loss: 0.003795\n",
      "Epoch: 15, Loss: 0.007371\n",
      "Epoch: 15, Loss: 0.016156\n",
      "Epoch: 15, Loss: 0.003817\n",
      "Epoch: 15, Loss: 0.009133\n",
      "Epoch: 15, Loss: 0.014426\n",
      "Epoch: 15, Loss: 0.013163\n",
      "Epoch: 15, Loss: 0.007172\n",
      "Epoch: 15, Loss: 0.018928\n",
      "Epoch: 15, Loss: 0.008219\n",
      "Epoch: 15, Loss: 0.014905\n",
      "Epoch: 15, Loss: 0.008851\n",
      "Epoch: 15, Loss: 0.004337\n",
      "Epoch: 15, Loss: 0.009033\n",
      "Epoch: 15, Loss: 0.003942\n",
      "Epoch: 15, Loss: 0.007533\n",
      "Epoch: 15, Loss: 0.030542\n",
      "Epoch: 15, Loss: 0.008471\n",
      "Epoch: 15, Loss: 0.003432\n",
      "Epoch: 15, Loss: 0.008392\n",
      "Epoch: 15, Loss: 0.002745\n",
      "Epoch: 15, Loss: 0.004380\n",
      "Epoch: 15, Loss: 0.005118\n",
      "Epoch: 15, Loss: 0.006970\n",
      "Epoch: 15, Loss: 0.017147\n",
      "Epoch: 15, Loss: 0.007487\n",
      "Epoch: 15, Loss: 0.004769\n",
      "Epoch: 15, Loss: 0.009976\n",
      "Epoch: 15, Loss: 0.009009\n",
      "Epoch: 15, Loss: 0.010770\n",
      "Epoch: 15, Loss: 0.008534\n",
      "Epoch: 15, Loss: 0.021966\n",
      "Epoch: 15, Loss: 0.004863\n",
      "Epoch: 15, Loss: 0.007143\n",
      "Epoch: 15, Loss: 0.019246\n",
      "Epoch: 15, Loss: 0.020456\n",
      "Epoch: 15, Loss: 0.007891\n",
      "Epoch: 15, Loss: 0.017359\n",
      "Epoch: 15, Loss: 0.008803\n",
      "Epoch: 15, Loss: 0.008925\n",
      "Epoch: 15, Loss: 0.008218\n",
      "Epoch: 15, Loss: 0.010886\n",
      "Epoch: 15, Loss: 0.008022\n",
      "Epoch: 15, Loss: 0.013755\n",
      "Epoch: 15, Loss: 0.014928\n",
      "Epoch: 15, Loss: 0.007785\n",
      "Epoch: 15, Loss: 0.010734\n",
      "Epoch: 15, Loss: 0.003362\n",
      "Epoch: 15, Loss: 0.007769\n",
      "Epoch: 15, Loss: 0.012705\n",
      "Epoch: 16, Loss: 0.012174\n",
      "Epoch: 16, Loss: 0.023948\n",
      "Epoch: 16, Loss: 0.008284\n",
      "Epoch: 16, Loss: 0.007369\n",
      "Epoch: 16, Loss: 0.015688\n",
      "Epoch: 16, Loss: 0.004760\n",
      "Epoch: 16, Loss: 0.002661\n",
      "Epoch: 16, Loss: 0.021266\n",
      "Epoch: 16, Loss: 0.007240\n",
      "Epoch: 16, Loss: 0.013893\n",
      "Epoch: 16, Loss: 0.005365\n",
      "Epoch: 16, Loss: 0.009819\n",
      "Epoch: 16, Loss: 0.010868\n",
      "Epoch: 16, Loss: 0.010025\n",
      "Epoch: 16, Loss: 0.012290\n",
      "Epoch: 16, Loss: 0.005560\n",
      "Epoch: 16, Loss: 0.012862\n",
      "Epoch: 16, Loss: 0.008878\n",
      "Epoch: 16, Loss: 0.005792\n",
      "Epoch: 16, Loss: 0.019318\n",
      "Epoch: 16, Loss: 0.003951\n",
      "Epoch: 16, Loss: 0.011270\n",
      "Epoch: 16, Loss: 0.004819\n",
      "Epoch: 16, Loss: 0.012899\n",
      "Epoch: 16, Loss: 0.004294\n",
      "Epoch: 16, Loss: 0.006573\n",
      "Epoch: 16, Loss: 0.019829\n",
      "Epoch: 16, Loss: 0.008217\n",
      "Epoch: 16, Loss: 0.004693\n"
     ]
    },
    {
     "name": "stdout",
     "output_type": "stream",
     "text": [
      "Epoch: 16, Loss: 0.005633\n",
      "Epoch: 16, Loss: 0.009408\n",
      "Epoch: 16, Loss: 0.008184\n",
      "Epoch: 16, Loss: 0.006743\n",
      "Epoch: 16, Loss: 0.007087\n",
      "Epoch: 16, Loss: 0.013512\n",
      "Epoch: 16, Loss: 0.014774\n",
      "Epoch: 16, Loss: 0.003035\n",
      "Epoch: 16, Loss: 0.008752\n",
      "Epoch: 16, Loss: 0.006441\n",
      "Epoch: 16, Loss: 0.007314\n",
      "Epoch: 16, Loss: 0.003435\n",
      "Epoch: 16, Loss: 0.006320\n",
      "Epoch: 16, Loss: 0.007881\n",
      "Epoch: 16, Loss: 0.006892\n",
      "Epoch: 16, Loss: 0.004675\n",
      "Epoch: 16, Loss: 0.004861\n",
      "Epoch: 16, Loss: 0.004176\n",
      "Epoch: 16, Loss: 0.005443\n",
      "Epoch: 16, Loss: 0.007656\n",
      "Epoch: 16, Loss: 0.004299\n",
      "Epoch: 16, Loss: 0.012046\n",
      "Epoch: 16, Loss: 0.012885\n",
      "Epoch: 16, Loss: 0.009662\n",
      "Epoch: 16, Loss: 0.010548\n",
      "Epoch: 16, Loss: 0.003884\n",
      "Epoch: 16, Loss: 0.006001\n",
      "Epoch: 16, Loss: 0.009561\n",
      "Epoch: 16, Loss: 0.019247\n",
      "Epoch: 16, Loss: 0.019203\n",
      "Epoch: 16, Loss: 0.013306\n",
      "Epoch: 16, Loss: 0.003682\n",
      "Epoch: 16, Loss: 0.004303\n",
      "Epoch: 16, Loss: 0.005715\n",
      "Epoch: 16, Loss: 0.016024\n",
      "Epoch: 16, Loss: 0.005089\n",
      "Epoch: 16, Loss: 0.007069\n",
      "Epoch: 16, Loss: 0.010628\n",
      "Epoch: 16, Loss: 0.005518\n",
      "Epoch: 16, Loss: 0.015968\n",
      "Epoch: 16, Loss: 0.008229\n",
      "Epoch: 16, Loss: 0.005468\n",
      "Epoch: 16, Loss: 0.004774\n",
      "Epoch: 16, Loss: 0.018500\n",
      "Epoch: 16, Loss: 0.013850\n",
      "Epoch: 16, Loss: 0.006801\n",
      "Epoch: 16, Loss: 0.007983\n",
      "Epoch: 16, Loss: 0.002337\n",
      "Epoch: 16, Loss: 0.003937\n",
      "Epoch: 16, Loss: 0.012166\n",
      "Epoch: 17, Loss: 0.004509\n",
      "Epoch: 17, Loss: 0.009971\n",
      "Epoch: 17, Loss: 0.020664\n",
      "Epoch: 17, Loss: 0.004284\n",
      "Epoch: 17, Loss: 0.018283\n",
      "Epoch: 17, Loss: 0.005664\n",
      "Epoch: 17, Loss: 0.005240\n",
      "Epoch: 17, Loss: 0.004207\n",
      "Epoch: 17, Loss: 0.010065\n",
      "Epoch: 17, Loss: 0.013764\n",
      "Epoch: 17, Loss: 0.037321\n",
      "Epoch: 17, Loss: 0.008516\n",
      "Epoch: 17, Loss: 0.005823\n",
      "Epoch: 17, Loss: 0.009483\n",
      "Epoch: 17, Loss: 0.003486\n",
      "Epoch: 17, Loss: 0.014058\n",
      "Epoch: 17, Loss: 0.007114\n",
      "Epoch: 17, Loss: 0.002909\n",
      "Epoch: 17, Loss: 0.013665\n",
      "Epoch: 17, Loss: 0.009892\n",
      "Epoch: 17, Loss: 0.009880\n",
      "Epoch: 17, Loss: 0.005629\n",
      "Epoch: 17, Loss: 0.007266\n",
      "Epoch: 17, Loss: 0.017036\n",
      "Epoch: 17, Loss: 0.009028\n",
      "Epoch: 17, Loss: 0.002991\n",
      "Epoch: 17, Loss: 0.008576\n",
      "Epoch: 17, Loss: 0.015700\n",
      "Epoch: 17, Loss: 0.013623\n",
      "Epoch: 17, Loss: 0.005052\n",
      "Epoch: 17, Loss: 0.013483\n",
      "Epoch: 17, Loss: 0.001970\n",
      "Epoch: 17, Loss: 0.004368\n",
      "Epoch: 17, Loss: 0.011460\n",
      "Epoch: 17, Loss: 0.005230\n",
      "Epoch: 17, Loss: 0.013160\n",
      "Epoch: 17, Loss: 0.002366\n",
      "Epoch: 17, Loss: 0.003777\n",
      "Epoch: 17, Loss: 0.008131\n",
      "Epoch: 17, Loss: 0.008409\n",
      "Epoch: 17, Loss: 0.005798\n",
      "Epoch: 17, Loss: 0.021764\n",
      "Epoch: 17, Loss: 0.017318\n",
      "Epoch: 17, Loss: 0.012488\n",
      "Epoch: 17, Loss: 0.008286\n",
      "Epoch: 17, Loss: 0.015819\n",
      "Epoch: 17, Loss: 0.020315\n",
      "Epoch: 17, Loss: 0.006910\n",
      "Epoch: 17, Loss: 0.005528\n",
      "Epoch: 17, Loss: 0.007812\n",
      "Epoch: 17, Loss: 0.013868\n",
      "Epoch: 17, Loss: 0.008979\n",
      "Epoch: 17, Loss: 0.010058\n",
      "Epoch: 17, Loss: 0.003893\n",
      "Epoch: 17, Loss: 0.006484\n",
      "Epoch: 17, Loss: 0.004538\n",
      "Epoch: 17, Loss: 0.004760\n",
      "Epoch: 17, Loss: 0.005411\n",
      "Epoch: 17, Loss: 0.022843\n",
      "Epoch: 17, Loss: 0.007328\n",
      "Epoch: 17, Loss: 0.011604\n",
      "Epoch: 17, Loss: 0.008740\n",
      "Epoch: 17, Loss: 0.006874\n",
      "Epoch: 17, Loss: 0.011615\n",
      "Epoch: 17, Loss: 0.012325\n",
      "Epoch: 17, Loss: 0.009515\n",
      "Epoch: 17, Loss: 0.002390\n",
      "Epoch: 17, Loss: 0.005374\n",
      "Epoch: 17, Loss: 0.008562\n",
      "Epoch: 17, Loss: 0.005607\n",
      "Epoch: 17, Loss: 0.008712\n",
      "Epoch: 17, Loss: 0.004370\n",
      "Epoch: 17, Loss: 0.002474\n",
      "Epoch: 17, Loss: 0.027771\n",
      "Epoch: 17, Loss: 0.009322\n",
      "Epoch: 17, Loss: 0.004224\n",
      "Epoch: 17, Loss: 0.003249\n",
      "Epoch: 17, Loss: 0.005363\n",
      "Epoch: 17, Loss: 0.005290\n",
      "Epoch: 18, Loss: 0.006159\n",
      "Epoch: 18, Loss: 0.003060\n",
      "Epoch: 18, Loss: 0.019974\n",
      "Epoch: 18, Loss: 0.006708\n",
      "Epoch: 18, Loss: 0.007765\n",
      "Epoch: 18, Loss: 0.005239\n",
      "Epoch: 18, Loss: 0.005638\n",
      "Epoch: 18, Loss: 0.006094\n",
      "Epoch: 18, Loss: 0.003374\n",
      "Epoch: 18, Loss: 0.002200\n",
      "Epoch: 18, Loss: 0.014743\n",
      "Epoch: 18, Loss: 0.003850\n",
      "Epoch: 18, Loss: 0.004772\n",
      "Epoch: 18, Loss: 0.007520\n",
      "Epoch: 18, Loss: 0.005925\n",
      "Epoch: 18, Loss: 0.014203\n",
      "Epoch: 18, Loss: 0.004062\n",
      "Epoch: 18, Loss: 0.004449\n",
      "Epoch: 18, Loss: 0.011708\n",
      "Epoch: 18, Loss: 0.010731\n",
      "Epoch: 18, Loss: 0.003081\n",
      "Epoch: 18, Loss: 0.009443\n",
      "Epoch: 18, Loss: 0.008570\n",
      "Epoch: 18, Loss: 0.004526\n",
      "Epoch: 18, Loss: 0.007230\n",
      "Epoch: 18, Loss: 0.002864\n",
      "Epoch: 18, Loss: 0.002361\n",
      "Epoch: 18, Loss: 0.020627\n",
      "Epoch: 18, Loss: 0.006321\n",
      "Epoch: 18, Loss: 0.001708\n",
      "Epoch: 18, Loss: 0.005044\n",
      "Epoch: 18, Loss: 0.010074\n",
      "Epoch: 18, Loss: 0.010225\n",
      "Epoch: 18, Loss: 0.003326\n",
      "Epoch: 18, Loss: 0.009834\n",
      "Epoch: 18, Loss: 0.007790\n",
      "Epoch: 18, Loss: 0.005305\n",
      "Epoch: 18, Loss: 0.006912\n",
      "Epoch: 18, Loss: 0.005783\n",
      "Epoch: 18, Loss: 0.014760\n",
      "Epoch: 18, Loss: 0.004787\n",
      "Epoch: 18, Loss: 0.010843\n",
      "Epoch: 18, Loss: 0.007090\n",
      "Epoch: 18, Loss: 0.006143\n",
      "Epoch: 18, Loss: 0.007215\n",
      "Epoch: 18, Loss: 0.004005\n",
      "Epoch: 18, Loss: 0.017611\n",
      "Epoch: 18, Loss: 0.006595\n",
      "Epoch: 18, Loss: 0.011292\n",
      "Epoch: 18, Loss: 0.011926\n",
      "Epoch: 18, Loss: 0.006477\n",
      "Epoch: 18, Loss: 0.009076\n",
      "Epoch: 18, Loss: 0.008825\n",
      "Epoch: 18, Loss: 0.020679\n",
      "Epoch: 18, Loss: 0.008624\n",
      "Epoch: 18, Loss: 0.015404\n",
      "Epoch: 18, Loss: 0.004127\n",
      "Epoch: 18, Loss: 0.021961\n",
      "Epoch: 18, Loss: 0.010245\n",
      "Epoch: 18, Loss: 0.007606\n",
      "Epoch: 18, Loss: 0.006548\n",
      "Epoch: 18, Loss: 0.020190\n",
      "Epoch: 18, Loss: 0.004415\n",
      "Epoch: 18, Loss: 0.008431\n",
      "Epoch: 18, Loss: 0.013427\n",
      "Epoch: 18, Loss: 0.004498\n",
      "Epoch: 18, Loss: 0.003392\n",
      "Epoch: 18, Loss: 0.006349\n",
      "Epoch: 18, Loss: 0.016476\n",
      "Epoch: 18, Loss: 0.017389\n",
      "Epoch: 18, Loss: 0.004216\n",
      "Epoch: 18, Loss: 0.004164\n",
      "Epoch: 18, Loss: 0.002842\n",
      "Epoch: 18, Loss: 0.002542\n",
      "Epoch: 18, Loss: 0.026867\n",
      "Epoch: 18, Loss: 0.003966\n",
      "Epoch: 18, Loss: 0.003436\n",
      "Epoch: 18, Loss: 0.006902\n",
      "Epoch: 18, Loss: 0.007981\n",
      "Epoch: 19, Loss: 0.008936\n",
      "Epoch: 19, Loss: 0.013744\n",
      "Epoch: 19, Loss: 0.015984\n",
      "Epoch: 19, Loss: 0.005525\n",
      "Epoch: 19, Loss: 0.006762\n",
      "Epoch: 19, Loss: 0.005826\n",
      "Epoch: 19, Loss: 0.003323\n",
      "Epoch: 19, Loss: 0.017519\n",
      "Epoch: 19, Loss: 0.008965\n",
      "Epoch: 19, Loss: 0.010314\n",
      "Epoch: 19, Loss: 0.010315\n",
      "Epoch: 19, Loss: 0.004240\n",
      "Epoch: 19, Loss: 0.012879\n",
      "Epoch: 19, Loss: 0.007840\n",
      "Epoch: 19, Loss: 0.002602\n",
      "Epoch: 19, Loss: 0.006800\n",
      "Epoch: 19, Loss: 0.008155\n",
      "Epoch: 19, Loss: 0.008785\n",
      "Epoch: 19, Loss: 0.019286\n",
      "Epoch: 19, Loss: 0.020920\n",
      "Epoch: 19, Loss: 0.013173\n",
      "Epoch: 19, Loss: 0.003429\n",
      "Epoch: 19, Loss: 0.004927\n",
      "Epoch: 19, Loss: 0.004731\n",
      "Epoch: 19, Loss: 0.010793\n",
      "Epoch: 19, Loss: 0.003853\n",
      "Epoch: 19, Loss: 0.012851\n",
      "Epoch: 19, Loss: 0.004109\n",
      "Epoch: 19, Loss: 0.002015\n",
      "Epoch: 19, Loss: 0.009992\n",
      "Epoch: 19, Loss: 0.009595\n",
      "Epoch: 19, Loss: 0.002470\n",
      "Epoch: 19, Loss: 0.014956\n",
      "Epoch: 19, Loss: 0.003912\n",
      "Epoch: 19, Loss: 0.015357\n",
      "Epoch: 19, Loss: 0.013976\n",
      "Epoch: 19, Loss: 0.008823\n",
      "Epoch: 19, Loss: 0.005327\n",
      "Epoch: 19, Loss: 0.008017\n",
      "Epoch: 19, Loss: 0.011449\n",
      "Epoch: 19, Loss: 0.005708\n",
      "Epoch: 19, Loss: 0.006848\n",
      "Epoch: 19, Loss: 0.007872\n",
      "Epoch: 19, Loss: 0.010046\n",
      "Epoch: 19, Loss: 0.007584\n",
      "Epoch: 19, Loss: 0.006124\n",
      "Epoch: 19, Loss: 0.002425\n",
      "Epoch: 19, Loss: 0.014493\n",
      "Epoch: 19, Loss: 0.002127\n",
      "Epoch: 19, Loss: 0.015853\n",
      "Epoch: 19, Loss: 0.006448\n",
      "Epoch: 19, Loss: 0.004456\n",
      "Epoch: 19, Loss: 0.004191\n",
      "Epoch: 19, Loss: 0.009367\n",
      "Epoch: 19, Loss: 0.012807\n",
      "Epoch: 19, Loss: 0.013367\n",
      "Epoch: 19, Loss: 0.002458\n",
      "Epoch: 19, Loss: 0.003422\n",
      "Epoch: 19, Loss: 0.015660\n",
      "Epoch: 19, Loss: 0.004166\n",
      "Epoch: 19, Loss: 0.009129\n",
      "Epoch: 19, Loss: 0.012268\n",
      "Epoch: 19, Loss: 0.015773\n",
      "Epoch: 19, Loss: 0.004822\n",
      "Epoch: 19, Loss: 0.008818\n",
      "Epoch: 19, Loss: 0.005216\n",
      "Epoch: 19, Loss: 0.014800\n",
      "Epoch: 19, Loss: 0.007029\n",
      "Epoch: 19, Loss: 0.005525\n",
      "Epoch: 19, Loss: 0.004997\n",
      "Epoch: 19, Loss: 0.002406\n",
      "Epoch: 19, Loss: 0.010282\n",
      "Epoch: 19, Loss: 0.005674\n",
      "Epoch: 19, Loss: 0.005348\n",
      "Epoch: 19, Loss: 0.004979\n",
      "Epoch: 19, Loss: 0.010388\n",
      "Epoch: 19, Loss: 0.014500\n",
      "Epoch: 19, Loss: 0.016104\n",
      "Epoch: 19, Loss: 0.009708\n"
     ]
    }
   ],
   "source": [
    "epochs = 20\n",
    "\n",
    "for epoch in range(epochs):\n",
    "    for step, batch in enumerate(dataloader):\n",
    "        optimizer.zero_grad()\n",
    "\n",
    "        batch_size = batch.shape[0]\n",
    "        batch = batch.to(device)\n",
    "\n",
    "        # Algorithm 1 line 3: sample t uniformally for every example in the batch\n",
    "        t = torch.randint(0, timesteps, (batch_size,), device=device).long()\n",
    "\n",
    "        loss = diffusion.conditional_p_losses(model, batch, t, loss_type=\"huber\")\n",
    "\n",
    "        if step % 100 == 0:\n",
    "            print(\"Epoch: %d, Loss: %f\" %(epoch, loss.item()))\n",
    "\n",
    "        loss.backward()\n",
    "        optimizer.step()\n"
   ]
  },
  {
   "cell_type": "code",
   "execution_count": 6,
   "id": "8714879a",
   "metadata": {},
   "outputs": [
    {
     "data": {
      "application/vnd.jupyter.widget-view+json": {
       "model_id": "2c67d14dcda3431b867f4f80b88b05df",
       "version_major": 2,
       "version_minor": 0
      },
      "text/plain": [
       "sampling loop time step:   0%|          | 0/10000 [00:00<?, ?it/s]"
      ]
     },
     "metadata": {},
     "output_type": "display_data"
    }
   ],
   "source": [
    "for step, batch in enumerate(dataloader): break\n",
    "cond = batch[:, :-1].to(device) \n",
    "samples = diffusion.conditional_sample(cond, model, image_size=1, batch_size=128)"
   ]
  },
  {
   "cell_type": "code",
   "execution_count": 7,
   "id": "ae5a96cf",
   "metadata": {},
   "outputs": [
    {
     "data": {
      "text/plain": [
       "array([[-0.842015  ],\n",
       "       [-0.8195985 ],\n",
       "       [ 0.98319817],\n",
       "       [ 0.9791057 ],\n",
       "       [-0.42925155],\n",
       "       [-0.03757697],\n",
       "       [ 0.14848042],\n",
       "       [ 0.41027284],\n",
       "       [ 0.8430635 ],\n",
       "       [-0.45497656],\n",
       "       [-0.05592513],\n",
       "       [ 0.9832127 ],\n",
       "       [ 0.98097944],\n",
       "       [ 0.9548286 ],\n",
       "       [-0.21146631],\n",
       "       [-0.25092345],\n",
       "       [ 0.34486234],\n",
       "       [-0.38975686],\n",
       "       [ 0.98119617],\n",
       "       [ 0.82282114],\n",
       "       [ 0.9799963 ],\n",
       "       [-0.34440982],\n",
       "       [ 0.98209167],\n",
       "       [ 0.5164199 ],\n",
       "       [ 0.5192437 ],\n",
       "       [ 0.44996905],\n",
       "       [ 0.8777826 ],\n",
       "       [ 0.9787164 ],\n",
       "       [-0.21505892],\n",
       "       [-0.12742108],\n",
       "       [ 0.95991135],\n",
       "       [-0.3614183 ],\n",
       "       [-0.3639124 ],\n",
       "       [ 0.2473414 ],\n",
       "       [ 0.98543215],\n",
       "       [-0.19490314],\n",
       "       [-0.12956715],\n",
       "       [ 0.7173605 ],\n",
       "       [ 0.9825808 ],\n",
       "       [ 0.622939  ],\n",
       "       [-0.17044902],\n",
       "       [ 0.95837593],\n",
       "       [-0.0820961 ],\n",
       "       [-0.13803995],\n",
       "       [ 0.98026514],\n",
       "       [ 0.43406904],\n",
       "       [-0.07462484],\n",
       "       [-0.8496101 ],\n",
       "       [ 0.9479774 ],\n",
       "       [ 0.20224845],\n",
       "       [ 0.922595  ],\n",
       "       [-0.5125025 ],\n",
       "       [ 0.8518218 ],\n",
       "       [ 0.9791279 ],\n",
       "       [ 0.9817389 ],\n",
       "       [ 0.8956661 ],\n",
       "       [-0.09096217],\n",
       "       [ 0.98570037],\n",
       "       [ 0.024001  ],\n",
       "       [ 0.07139039],\n",
       "       [ 0.97976303],\n",
       "       [-0.04001033],\n",
       "       [ 0.9308791 ],\n",
       "       [-0.27780902],\n",
       "       [ 0.3882413 ],\n",
       "       [-0.0349015 ],\n",
       "       [-0.14864844],\n",
       "       [-0.27779663],\n",
       "       [-0.14858341],\n",
       "       [-0.60085785],\n",
       "       [ 0.35768056],\n",
       "       [-0.34639764],\n",
       "       [ 0.97989047],\n",
       "       [ 0.01302016],\n",
       "       [-0.194592  ],\n",
       "       [-0.6649672 ],\n",
       "       [ 0.6613064 ],\n",
       "       [ 0.98307776],\n",
       "       [ 0.9792433 ],\n",
       "       [-0.04703158],\n",
       "       [-0.00419992],\n",
       "       [ 0.9784758 ],\n",
       "       [ 0.98529625],\n",
       "       [ 0.98114204],\n",
       "       [ 0.07787335],\n",
       "       [ 0.9342513 ],\n",
       "       [-0.31847107],\n",
       "       [ 0.940588  ],\n",
       "       [ 0.9807551 ],\n",
       "       [-0.3838095 ],\n",
       "       [ 0.81908107],\n",
       "       [ 0.8178086 ],\n",
       "       [ 0.34403193],\n",
       "       [ 0.9857776 ],\n",
       "       [ 0.95991135],\n",
       "       [-0.05854392],\n",
       "       [ 0.80140126],\n",
       "       [-0.2892853 ],\n",
       "       [-0.59374124],\n",
       "       [-0.3550564 ],\n",
       "       [ 0.97727513],\n",
       "       [-0.5217856 ],\n",
       "       [ 0.73875904],\n",
       "       [ 0.9686284 ],\n",
       "       [-0.03314102],\n",
       "       [ 0.9825847 ],\n",
       "       [-0.17607468],\n",
       "       [-0.48425162],\n",
       "       [ 0.8291538 ],\n",
       "       [ 0.9828203 ],\n",
       "       [ 0.8993175 ],\n",
       "       [-0.10291111],\n",
       "       [ 0.13854718],\n",
       "       [ 0.7721441 ],\n",
       "       [ 0.09655952],\n",
       "       [ 0.9803417 ],\n",
       "       [ 0.6163268 ],\n",
       "       [ 0.9791523 ],\n",
       "       [ 0.9841932 ],\n",
       "       [ 0.9780152 ],\n",
       "       [-0.14101571],\n",
       "       [-0.624535  ],\n",
       "       [-0.16267091],\n",
       "       [ 0.98642683],\n",
       "       [-0.39138806],\n",
       "       [ 0.38969553],\n",
       "       [-0.34260297],\n",
       "       [ 0.9817617 ]], dtype=float32)"
      ]
     },
     "execution_count": 7,
     "metadata": {},
     "output_type": "execute_result"
    }
   ],
   "source": [
    "cond = cond.detach().cpu().numpy()\n",
    "trial_samples = cond * scale + bias\n",
    "best_model.predict(trial_samples)[0]"
   ]
  },
  {
   "cell_type": "code",
   "execution_count": 41,
   "id": "367af1ee",
   "metadata": {
    "scrolled": true
   },
   "outputs": [
    {
     "name": "stdout",
     "output_type": "stream",
     "text": [
      "(1, 2)\n",
      "[[-0.56191593  0.        ]]\n"
     ]
    },
    {
     "data": {
      "application/vnd.jupyter.widget-view+json": {
       "model_id": "2d30b4284fd54928a9166af379935f1b",
       "version_major": 2,
       "version_minor": 0
      },
      "text/plain": [
       "sampling loop time step:   0%|          | 0/100 [00:00<?, ?it/s]"
      ]
     },
     "metadata": {},
     "output_type": "display_data"
    },
    {
     "name": "stdout",
     "output_type": "stream",
     "text": [
      "[[-5.616663e-01  2.496418e-04]]\n"
     ]
    },
    {
     "data": {
      "application/vnd.jupyter.widget-view+json": {
       "model_id": "573740ad241a4795b7ce923ed3a81bdd",
       "version_major": 2,
       "version_minor": 0
      },
      "text/plain": [
       "sampling loop time step:   0%|          | 0/100 [00:00<?, ?it/s]"
      ]
     },
     "metadata": {},
     "output_type": "display_data"
    },
    {
     "name": "stdout",
     "output_type": "stream",
     "text": [
      "[[-5.6114668e-01  5.1966263e-04]]\n"
     ]
    },
    {
     "data": {
      "application/vnd.jupyter.widget-view+json": {
       "model_id": "715024a3878a406f8e0e19b2f60c0554",
       "version_major": 2,
       "version_minor": 0
      },
      "text/plain": [
       "sampling loop time step:   0%|          | 0/100 [00:00<?, ?it/s]"
      ]
     },
     "metadata": {},
     "output_type": "display_data"
    },
    {
     "name": "stdout",
     "output_type": "stream",
     "text": [
      "[[-0.5603324   0.00081423]]\n"
     ]
    },
    {
     "data": {
      "application/vnd.jupyter.widget-view+json": {
       "model_id": "348f8e2ecaf1443d942efeeb64e58e94",
       "version_major": 2,
       "version_minor": 0
      },
      "text/plain": [
       "sampling loop time step:   0%|          | 0/100 [00:00<?, ?it/s]"
      ]
     },
     "metadata": {},
     "output_type": "display_data"
    },
    {
     "name": "stdout",
     "output_type": "stream",
     "text": [
      "[[-0.5592276   0.00110481]]\n"
     ]
    },
    {
     "data": {
      "application/vnd.jupyter.widget-view+json": {
       "model_id": "cfad153abe86479d9bd390e70493e3a5",
       "version_major": 2,
       "version_minor": 0
      },
      "text/plain": [
       "sampling loop time step:   0%|          | 0/100 [00:00<?, ?it/s]"
      ]
     },
     "metadata": {},
     "output_type": "display_data"
    },
    {
     "name": "stdout",
     "output_type": "stream",
     "text": [
      "[[-0.55781037  0.00141719]]\n"
     ]
    },
    {
     "data": {
      "application/vnd.jupyter.widget-view+json": {
       "model_id": "30f465d4dd7343b3a5d421b386ab7a55",
       "version_major": 2,
       "version_minor": 0
      },
      "text/plain": [
       "sampling loop time step:   0%|          | 0/100 [00:00<?, ?it/s]"
      ]
     },
     "metadata": {},
     "output_type": "display_data"
    },
    {
     "name": "stdout",
     "output_type": "stream",
     "text": [
      "[[-0.5560709   0.00173946]]\n"
     ]
    },
    {
     "data": {
      "application/vnd.jupyter.widget-view+json": {
       "model_id": "b3e4d2d2fd30466da870e2bab36f968a",
       "version_major": 2,
       "version_minor": 0
      },
      "text/plain": [
       "sampling loop time step:   0%|          | 0/100 [00:00<?, ?it/s]"
      ]
     },
     "metadata": {},
     "output_type": "display_data"
    },
    {
     "name": "stdout",
     "output_type": "stream",
     "text": [
      "[[-0.5539894   0.00208149]]\n"
     ]
    },
    {
     "data": {
      "application/vnd.jupyter.widget-view+json": {
       "model_id": "50edecd87b414db9a33da6abbb7a28ca",
       "version_major": 2,
       "version_minor": 0
      },
      "text/plain": [
       "sampling loop time step:   0%|          | 0/100 [00:00<?, ?it/s]"
      ]
     },
     "metadata": {},
     "output_type": "display_data"
    },
    {
     "name": "stdout",
     "output_type": "stream",
     "text": [
      "[[-0.551578    0.00241144]]\n"
     ]
    },
    {
     "data": {
      "application/vnd.jupyter.widget-view+json": {
       "model_id": "cb28022d26044e8b80b04b7bbc2fa1c8",
       "version_major": 2,
       "version_minor": 0
      },
      "text/plain": [
       "sampling loop time step:   0%|          | 0/100 [00:00<?, ?it/s]"
      ]
     },
     "metadata": {},
     "output_type": "display_data"
    },
    {
     "name": "stdout",
     "output_type": "stream",
     "text": [
      "[[-0.5488104   0.00276758]]\n"
     ]
    },
    {
     "data": {
      "application/vnd.jupyter.widget-view+json": {
       "model_id": "a18d0d21e6ad4ec58095bcdb4d47871a",
       "version_major": 2,
       "version_minor": 0
      },
      "text/plain": [
       "sampling loop time step:   0%|          | 0/100 [00:00<?, ?it/s]"
      ]
     },
     "metadata": {},
     "output_type": "display_data"
    },
    {
     "name": "stdout",
     "output_type": "stream",
     "text": [
      "[[-0.54568726  0.00312314]]\n"
     ]
    },
    {
     "data": {
      "application/vnd.jupyter.widget-view+json": {
       "model_id": "50d3520ae95f4afa9fe5d94d8606be37",
       "version_major": 2,
       "version_minor": 0
      },
      "text/plain": [
       "sampling loop time step:   0%|          | 0/100 [00:00<?, ?it/s]"
      ]
     },
     "metadata": {},
     "output_type": "display_data"
    },
    {
     "name": "stdout",
     "output_type": "stream",
     "text": [
      "[[-0.54220486  0.00348239]]\n"
     ]
    },
    {
     "data": {
      "application/vnd.jupyter.widget-view+json": {
       "model_id": "54a26ab276614ca39c04065e0037de68",
       "version_major": 2,
       "version_minor": 0
      },
      "text/plain": [
       "sampling loop time step:   0%|          | 0/100 [00:00<?, ?it/s]"
      ]
     },
     "metadata": {},
     "output_type": "display_data"
    },
    {
     "name": "stdout",
     "output_type": "stream",
     "text": [
      "[[-0.5383605   0.00384437]]\n"
     ]
    },
    {
     "data": {
      "application/vnd.jupyter.widget-view+json": {
       "model_id": "ccd8b965f4994b45967a30f011d28566",
       "version_major": 2,
       "version_minor": 0
      },
      "text/plain": [
       "sampling loop time step:   0%|          | 0/100 [00:00<?, ?it/s]"
      ]
     },
     "metadata": {},
     "output_type": "display_data"
    },
    {
     "name": "stdout",
     "output_type": "stream",
     "text": [
      "[[-0.5341741   0.00418638]]\n"
     ]
    },
    {
     "data": {
      "application/vnd.jupyter.widget-view+json": {
       "model_id": "e6abe12191584dfd85349b445316f11c",
       "version_major": 2,
       "version_minor": 0
      },
      "text/plain": [
       "sampling loop time step:   0%|          | 0/100 [00:00<?, ?it/s]"
      ]
     },
     "metadata": {},
     "output_type": "display_data"
    },
    {
     "name": "stdout",
     "output_type": "stream",
     "text": [
      "[[-0.52961636  0.00455776]]\n"
     ]
    },
    {
     "data": {
      "application/vnd.jupyter.widget-view+json": {
       "model_id": "877f704b6299452bb5184d2255b15798",
       "version_major": 2,
       "version_minor": 0
      },
      "text/plain": [
       "sampling loop time step:   0%|          | 0/100 [00:00<?, ?it/s]"
      ]
     },
     "metadata": {},
     "output_type": "display_data"
    },
    {
     "name": "stdout",
     "output_type": "stream",
     "text": [
      "[[-0.52469903  0.0049173 ]]\n"
     ]
    },
    {
     "data": {
      "application/vnd.jupyter.widget-view+json": {
       "model_id": "ba6c0310eb8c487cbe970252e3cf9d5a",
       "version_major": 2,
       "version_minor": 0
      },
      "text/plain": [
       "sampling loop time step:   0%|          | 0/100 [00:00<?, ?it/s]"
      ]
     },
     "metadata": {},
     "output_type": "display_data"
    },
    {
     "name": "stdout",
     "output_type": "stream",
     "text": [
      "[[-0.5194593   0.00523972]]\n"
     ]
    },
    {
     "data": {
      "application/vnd.jupyter.widget-view+json": {
       "model_id": "2e9549ad63c84fc6acd9fc0938cfb670",
       "version_major": 2,
       "version_minor": 0
      },
      "text/plain": [
       "sampling loop time step:   0%|          | 0/100 [00:00<?, ?it/s]"
      ]
     },
     "metadata": {},
     "output_type": "display_data"
    },
    {
     "name": "stdout",
     "output_type": "stream",
     "text": [
      "[[-0.5138948   0.00556453]]\n"
     ]
    },
    {
     "data": {
      "application/vnd.jupyter.widget-view+json": {
       "model_id": "cca9d197bedc4e369770ebc92f05009c",
       "version_major": 2,
       "version_minor": 0
      },
      "text/plain": [
       "sampling loop time step:   0%|          | 0/100 [00:00<?, ?it/s]"
      ]
     },
     "metadata": {},
     "output_type": "display_data"
    },
    {
     "name": "stdout",
     "output_type": "stream",
     "text": [
      "[[-0.5080315   0.00586331]]\n"
     ]
    },
    {
     "data": {
      "application/vnd.jupyter.widget-view+json": {
       "model_id": "77b247a49921476885d4ecf8c5c30bbf",
       "version_major": 2,
       "version_minor": 0
      },
      "text/plain": [
       "sampling loop time step:   0%|          | 0/100 [00:00<?, ?it/s]"
      ]
     },
     "metadata": {},
     "output_type": "display_data"
    },
    {
     "name": "stdout",
     "output_type": "stream",
     "text": [
      "[[-0.50187176  0.00615972]]\n"
     ]
    },
    {
     "data": {
      "application/vnd.jupyter.widget-view+json": {
       "model_id": "8f4a3583808e40ebbed19616c9adeedd",
       "version_major": 2,
       "version_minor": 0
      },
      "text/plain": [
       "sampling loop time step:   0%|          | 0/100 [00:00<?, ?it/s]"
      ]
     },
     "metadata": {},
     "output_type": "display_data"
    },
    {
     "name": "stdout",
     "output_type": "stream",
     "text": [
      "[[-0.49545074  0.00642102]]\n"
     ]
    },
    {
     "data": {
      "application/vnd.jupyter.widget-view+json": {
       "model_id": "e5d27105725f47ab9e1324da47714cc4",
       "version_major": 2,
       "version_minor": 0
      },
      "text/plain": [
       "sampling loop time step:   0%|          | 0/100 [00:00<?, ?it/s]"
      ]
     },
     "metadata": {},
     "output_type": "display_data"
    },
    {
     "name": "stdout",
     "output_type": "stream",
     "text": [
      "[[-0.48878884  0.00666189]]\n"
     ]
    },
    {
     "data": {
      "application/vnd.jupyter.widget-view+json": {
       "model_id": "0bef9fd22f8844cdbe15498665db9564",
       "version_major": 2,
       "version_minor": 0
      },
      "text/plain": [
       "sampling loop time step:   0%|          | 0/100 [00:00<?, ?it/s]"
      ]
     },
     "metadata": {},
     "output_type": "display_data"
    },
    {
     "name": "stdout",
     "output_type": "stream",
     "text": [
      "[[-0.4819407   0.00684814]]\n"
     ]
    },
    {
     "data": {
      "application/vnd.jupyter.widget-view+json": {
       "model_id": "2da004b736ad41f9b676ee2c012000f9",
       "version_major": 2,
       "version_minor": 0
      },
      "text/plain": [
       "sampling loop time step:   0%|          | 0/100 [00:00<?, ?it/s]"
      ]
     },
     "metadata": {},
     "output_type": "display_data"
    },
    {
     "name": "stdout",
     "output_type": "stream",
     "text": [
      "[[-0.47493246  0.00700821]]\n"
     ]
    },
    {
     "data": {
      "application/vnd.jupyter.widget-view+json": {
       "model_id": "9bdf69ce96cc4778a126213cd3da20b6",
       "version_major": 2,
       "version_minor": 0
      },
      "text/plain": [
       "sampling loop time step:   0%|          | 0/100 [00:00<?, ?it/s]"
      ]
     },
     "metadata": {},
     "output_type": "display_data"
    },
    {
     "name": "stdout",
     "output_type": "stream",
     "text": [
      "[[-0.46782294  0.00710953]]\n"
     ]
    },
    {
     "data": {
      "application/vnd.jupyter.widget-view+json": {
       "model_id": "bd45366339724d8d8f643e4ecb9804ea",
       "version_major": 2,
       "version_minor": 0
      },
      "text/plain": [
       "sampling loop time step:   0%|          | 0/100 [00:00<?, ?it/s]"
      ]
     },
     "metadata": {},
     "output_type": "display_data"
    },
    {
     "name": "stdout",
     "output_type": "stream",
     "text": [
      "[[-0.46064037  0.00718257]]\n"
     ]
    },
    {
     "data": {
      "application/vnd.jupyter.widget-view+json": {
       "model_id": "2930071cbb884c6a8ed34f0b3163fee0",
       "version_major": 2,
       "version_minor": 0
      },
      "text/plain": [
       "sampling loop time step:   0%|          | 0/100 [00:00<?, ?it/s]"
      ]
     },
     "metadata": {},
     "output_type": "display_data"
    },
    {
     "name": "stdout",
     "output_type": "stream",
     "text": [
      "[[-0.45342544  0.00721494]]\n"
     ]
    },
    {
     "data": {
      "application/vnd.jupyter.widget-view+json": {
       "model_id": "58a2dcf1cece41b69d349ead4bea5d34",
       "version_major": 2,
       "version_minor": 0
      },
      "text/plain": [
       "sampling loop time step:   0%|          | 0/100 [00:00<?, ?it/s]"
      ]
     },
     "metadata": {},
     "output_type": "display_data"
    },
    {
     "name": "stdout",
     "output_type": "stream",
     "text": [
      "[[-0.44624555  0.00717987]]\n"
     ]
    },
    {
     "data": {
      "application/vnd.jupyter.widget-view+json": {
       "model_id": "20716666f3104f299c4de9dc75bf0c1d",
       "version_major": 2,
       "version_minor": 0
      },
      "text/plain": [
       "sampling loop time step:   0%|          | 0/100 [00:00<?, ?it/s]"
      ]
     },
     "metadata": {},
     "output_type": "display_data"
    },
    {
     "name": "stdout",
     "output_type": "stream",
     "text": [
      "[[-0.43910876  0.00713679]]\n"
     ]
    },
    {
     "data": {
      "application/vnd.jupyter.widget-view+json": {
       "model_id": "b3d08079bbdd480c8e54ec029d42e19d",
       "version_major": 2,
       "version_minor": 0
      },
      "text/plain": [
       "sampling loop time step:   0%|          | 0/100 [00:00<?, ?it/s]"
      ]
     },
     "metadata": {},
     "output_type": "display_data"
    },
    {
     "name": "stdout",
     "output_type": "stream",
     "text": [
      "[[-0.4321018   0.00700697]]\n"
     ]
    },
    {
     "data": {
      "application/vnd.jupyter.widget-view+json": {
       "model_id": "5b92e0800b7d485bb500cacc7d216705",
       "version_major": 2,
       "version_minor": 0
      },
      "text/plain": [
       "sampling loop time step:   0%|          | 0/100 [00:00<?, ?it/s]"
      ]
     },
     "metadata": {},
     "output_type": "display_data"
    },
    {
     "name": "stdout",
     "output_type": "stream",
     "text": [
      "[[-0.425291    0.00681079]]\n"
     ]
    },
    {
     "data": {
      "application/vnd.jupyter.widget-view+json": {
       "model_id": "de804dbfc4ab46619354863ca3e9da05",
       "version_major": 2,
       "version_minor": 0
      },
      "text/plain": [
       "sampling loop time step:   0%|          | 0/100 [00:00<?, ?it/s]"
      ]
     },
     "metadata": {},
     "output_type": "display_data"
    },
    {
     "name": "stdout",
     "output_type": "stream",
     "text": [
      "[[-0.41875732  0.00653369]]\n"
     ]
    },
    {
     "data": {
      "application/vnd.jupyter.widget-view+json": {
       "model_id": "6a265c4992d14bf29f57840678cd1a10",
       "version_major": 2,
       "version_minor": 0
      },
      "text/plain": [
       "sampling loop time step:   0%|          | 0/100 [00:00<?, ?it/s]"
      ]
     },
     "metadata": {},
     "output_type": "display_data"
    },
    {
     "name": "stdout",
     "output_type": "stream",
     "text": [
      "[[-0.41256732  0.00618999]]\n"
     ]
    },
    {
     "data": {
      "application/vnd.jupyter.widget-view+json": {
       "model_id": "9c9b3b6475f840d49b42b4df42629747",
       "version_major": 2,
       "version_minor": 0
      },
      "text/plain": [
       "sampling loop time step:   0%|          | 0/100 [00:00<?, ?it/s]"
      ]
     },
     "metadata": {},
     "output_type": "display_data"
    },
    {
     "name": "stdout",
     "output_type": "stream",
     "text": [
      "[[-0.40680546  0.00576187]]\n"
     ]
    },
    {
     "data": {
      "application/vnd.jupyter.widget-view+json": {
       "model_id": "f72178e5d01d4fa5932360683aa33980",
       "version_major": 2,
       "version_minor": 0
      },
      "text/plain": [
       "sampling loop time step:   0%|          | 0/100 [00:00<?, ?it/s]"
      ]
     },
     "metadata": {},
     "output_type": "display_data"
    },
    {
     "name": "stdout",
     "output_type": "stream",
     "text": [
      "[[-0.40155065  0.00525481]]\n"
     ]
    },
    {
     "data": {
      "application/vnd.jupyter.widget-view+json": {
       "model_id": "3a28e3dc0e014d189fc5dc791e49c30f",
       "version_major": 2,
       "version_minor": 0
      },
      "text/plain": [
       "sampling loop time step:   0%|          | 0/100 [00:00<?, ?it/s]"
      ]
     },
     "metadata": {},
     "output_type": "display_data"
    },
    {
     "name": "stdout",
     "output_type": "stream",
     "text": [
      "[[-0.39689493  0.00465572]]\n"
     ]
    },
    {
     "data": {
      "application/vnd.jupyter.widget-view+json": {
       "model_id": "58d682b582fa402bb852db1448f0d943",
       "version_major": 2,
       "version_minor": 0
      },
      "text/plain": [
       "sampling loop time step:   0%|          | 0/100 [00:00<?, ?it/s]"
      ]
     },
     "metadata": {},
     "output_type": "display_data"
    },
    {
     "name": "stdout",
     "output_type": "stream",
     "text": [
      "[[-0.39291078  0.00398415]]\n"
     ]
    },
    {
     "data": {
      "application/vnd.jupyter.widget-view+json": {
       "model_id": "0f95a39e91c44d87ad1818023500b923",
       "version_major": 2,
       "version_minor": 0
      },
      "text/plain": [
       "sampling loop time step:   0%|          | 0/100 [00:00<?, ?it/s]"
      ]
     },
     "metadata": {},
     "output_type": "display_data"
    },
    {
     "name": "stdout",
     "output_type": "stream",
     "text": [
      "[[-0.38968927  0.00322151]]\n"
     ]
    },
    {
     "data": {
      "application/vnd.jupyter.widget-view+json": {
       "model_id": "376a1b0663da4b77b5ab44341188bfb6",
       "version_major": 2,
       "version_minor": 0
      },
      "text/plain": [
       "sampling loop time step:   0%|          | 0/100 [00:00<?, ?it/s]"
      ]
     },
     "metadata": {},
     "output_type": "display_data"
    },
    {
     "name": "stdout",
     "output_type": "stream",
     "text": [
      "[[-0.3873243   0.00236496]]\n"
     ]
    },
    {
     "data": {
      "application/vnd.jupyter.widget-view+json": {
       "model_id": "55de9788741b4a33a0046e795fa7416e",
       "version_major": 2,
       "version_minor": 0
      },
      "text/plain": [
       "sampling loop time step:   0%|          | 0/100 [00:00<?, ?it/s]"
      ]
     },
     "metadata": {},
     "output_type": "display_data"
    },
    {
     "name": "stdout",
     "output_type": "stream",
     "text": [
      "[[-0.3859216  0.0014027]]\n"
     ]
    },
    {
     "data": {
      "application/vnd.jupyter.widget-view+json": {
       "model_id": "04dbfecc14b841ad93dcd66ea7ebb29b",
       "version_major": 2,
       "version_minor": 0
      },
      "text/plain": [
       "sampling loop time step:   0%|          | 0/100 [00:00<?, ?it/s]"
      ]
     },
     "metadata": {},
     "output_type": "display_data"
    },
    {
     "name": "stdout",
     "output_type": "stream",
     "text": [
      "[[-3.8556677e-01  3.5481242e-04]]\n"
     ]
    },
    {
     "data": {
      "application/vnd.jupyter.widget-view+json": {
       "model_id": "f56fc52a5df340d8ba61981b19ecc8d4",
       "version_major": 2,
       "version_minor": 0
      },
      "text/plain": [
       "sampling loop time step:   0%|          | 0/100 [00:00<?, ?it/s]"
      ]
     },
     "metadata": {},
     "output_type": "display_data"
    },
    {
     "name": "stdout",
     "output_type": "stream",
     "text": [
      "[[-0.38634816 -0.0007814 ]]\n"
     ]
    },
    {
     "data": {
      "application/vnd.jupyter.widget-view+json": {
       "model_id": "3a12d2d3a1dc498882e615d2205bb4d4",
       "version_major": 2,
       "version_minor": 0
      },
      "text/plain": [
       "sampling loop time step:   0%|          | 0/100 [00:00<?, ?it/s]"
      ]
     },
     "metadata": {},
     "output_type": "display_data"
    },
    {
     "name": "stdout",
     "output_type": "stream",
     "text": [
      "[[-0.38834807 -0.0019999 ]]\n"
     ]
    },
    {
     "data": {
      "application/vnd.jupyter.widget-view+json": {
       "model_id": "5c9c6c3dd9954508a19a54cde6ea2759",
       "version_major": 2,
       "version_minor": 0
      },
      "text/plain": [
       "sampling loop time step:   0%|          | 0/100 [00:00<?, ?it/s]"
      ]
     },
     "metadata": {},
     "output_type": "display_data"
    },
    {
     "name": "stdout",
     "output_type": "stream",
     "text": [
      "[[-0.39164156 -0.00329348]]\n"
     ]
    },
    {
     "data": {
      "application/vnd.jupyter.widget-view+json": {
       "model_id": "6f7fcd4bf7114cb68ee46fd9bd47e574",
       "version_major": 2,
       "version_minor": 0
      },
      "text/plain": [
       "sampling loop time step:   0%|          | 0/100 [00:00<?, ?it/s]"
      ]
     },
     "metadata": {},
     "output_type": "display_data"
    },
    {
     "name": "stdout",
     "output_type": "stream",
     "text": [
      "[[-0.39629996 -0.00465841]]\n"
     ]
    },
    {
     "data": {
      "application/vnd.jupyter.widget-view+json": {
       "model_id": "a89e701925c548eda2ea1f2a238b5269",
       "version_major": 2,
       "version_minor": 0
      },
      "text/plain": [
       "sampling loop time step:   0%|          | 0/100 [00:00<?, ?it/s]"
      ]
     },
     "metadata": {},
     "output_type": "display_data"
    },
    {
     "name": "stdout",
     "output_type": "stream",
     "text": [
      "[[-0.402366   -0.00606605]]\n"
     ]
    },
    {
     "data": {
      "application/vnd.jupyter.widget-view+json": {
       "model_id": "d7e4141152d04cafbf8ad88e6c833bdd",
       "version_major": 2,
       "version_minor": 0
      },
      "text/plain": [
       "sampling loop time step:   0%|          | 0/100 [00:00<?, ?it/s]"
      ]
     },
     "metadata": {},
     "output_type": "display_data"
    },
    {
     "name": "stdout",
     "output_type": "stream",
     "text": [
      "[[-0.40990046 -0.00753444]]\n"
     ]
    },
    {
     "data": {
      "application/vnd.jupyter.widget-view+json": {
       "model_id": "a7e6e6dc81394e50b65e570242671a7c",
       "version_major": 2,
       "version_minor": 0
      },
      "text/plain": [
       "sampling loop time step:   0%|          | 0/100 [00:00<?, ?it/s]"
      ]
     },
     "metadata": {},
     "output_type": "display_data"
    },
    {
     "name": "stdout",
     "output_type": "stream",
     "text": [
      "[[-0.4189156  -0.00901514]]\n"
     ]
    },
    {
     "data": {
      "application/vnd.jupyter.widget-view+json": {
       "model_id": "b82383c1d3384275b8dc46ddb9df7390",
       "version_major": 2,
       "version_minor": 0
      },
      "text/plain": [
       "sampling loop time step:   0%|          | 0/100 [00:00<?, ?it/s]"
      ]
     },
     "metadata": {},
     "output_type": "display_data"
    },
    {
     "name": "stdout",
     "output_type": "stream",
     "text": [
      "[[-0.42939192 -0.01047632]]\n"
     ]
    },
    {
     "data": {
      "application/vnd.jupyter.widget-view+json": {
       "model_id": "283ae7908d7843a39baf00a51aff0d51",
       "version_major": 2,
       "version_minor": 0
      },
      "text/plain": [
       "sampling loop time step:   0%|          | 0/100 [00:00<?, ?it/s]"
      ]
     },
     "metadata": {},
     "output_type": "display_data"
    },
    {
     "name": "stdout",
     "output_type": "stream",
     "text": [
      "[[-0.44130164 -0.01190973]]\n"
     ]
    },
    {
     "data": {
      "application/vnd.jupyter.widget-view+json": {
       "model_id": "ad0581d6e12745a8a47d3b84bac64111",
       "version_major": 2,
       "version_minor": 0
      },
      "text/plain": [
       "sampling loop time step:   0%|          | 0/100 [00:00<?, ?it/s]"
      ]
     },
     "metadata": {},
     "output_type": "display_data"
    },
    {
     "name": "stdout",
     "output_type": "stream",
     "text": [
      "[[-0.45459762 -0.01329597]]\n"
     ]
    },
    {
     "data": {
      "application/vnd.jupyter.widget-view+json": {
       "model_id": "e9cf3545ffc443909a5f135f613ceb1e",
       "version_major": 2,
       "version_minor": 0
      },
      "text/plain": [
       "sampling loop time step:   0%|          | 0/100 [00:00<?, ?it/s]"
      ]
     },
     "metadata": {},
     "output_type": "display_data"
    },
    {
     "name": "stdout",
     "output_type": "stream",
     "text": [
      "[[-0.46921033 -0.01461269]]\n"
     ]
    },
    {
     "data": {
      "application/vnd.jupyter.widget-view+json": {
       "model_id": "55045bd641174188ba03ca3195a3c781",
       "version_major": 2,
       "version_minor": 0
      },
      "text/plain": [
       "sampling loop time step:   0%|          | 0/100 [00:00<?, ?it/s]"
      ]
     },
     "metadata": {},
     "output_type": "display_data"
    },
    {
     "name": "stdout",
     "output_type": "stream",
     "text": [
      "[[-0.4850279  -0.01581758]]\n"
     ]
    },
    {
     "data": {
      "application/vnd.jupyter.widget-view+json": {
       "model_id": "49106984e1a04135b62d1aa4f3da4835",
       "version_major": 2,
       "version_minor": 0
      },
      "text/plain": [
       "sampling loop time step:   0%|          | 0/100 [00:00<?, ?it/s]"
      ]
     },
     "metadata": {},
     "output_type": "display_data"
    },
    {
     "name": "stdout",
     "output_type": "stream",
     "text": [
      "[[-0.50194967 -0.01692178]]\n"
     ]
    },
    {
     "data": {
      "application/vnd.jupyter.widget-view+json": {
       "model_id": "36e8078b710545ad90bebaab48e20dca",
       "version_major": 2,
       "version_minor": 0
      },
      "text/plain": [
       "sampling loop time step:   0%|          | 0/100 [00:00<?, ?it/s]"
      ]
     },
     "metadata": {},
     "output_type": "display_data"
    },
    {
     "name": "stdout",
     "output_type": "stream",
     "text": [
      "[[-0.5198467  -0.01789702]]\n"
     ]
    },
    {
     "data": {
      "application/vnd.jupyter.widget-view+json": {
       "model_id": "1c7bd0db6eaa487284559170e84345ce",
       "version_major": 2,
       "version_minor": 0
      },
      "text/plain": [
       "sampling loop time step:   0%|          | 0/100 [00:00<?, ?it/s]"
      ]
     },
     "metadata": {},
     "output_type": "display_data"
    },
    {
     "name": "stdout",
     "output_type": "stream",
     "text": [
      "[[-0.53856224 -0.01871554]]\n"
     ]
    },
    {
     "data": {
      "application/vnd.jupyter.widget-view+json": {
       "model_id": "0de3470f45e948c9ac1901da34ac26fc",
       "version_major": 2,
       "version_minor": 0
      },
      "text/plain": [
       "sampling loop time step:   0%|          | 0/100 [00:00<?, ?it/s]"
      ]
     },
     "metadata": {},
     "output_type": "display_data"
    },
    {
     "name": "stdout",
     "output_type": "stream",
     "text": [
      "[[-0.5579445  -0.01938226]]\n"
     ]
    },
    {
     "data": {
      "application/vnd.jupyter.widget-view+json": {
       "model_id": "2693eacfe5524ca49badd7755ffcdae5",
       "version_major": 2,
       "version_minor": 0
      },
      "text/plain": [
       "sampling loop time step:   0%|          | 0/100 [00:00<?, ?it/s]"
      ]
     },
     "metadata": {},
     "output_type": "display_data"
    },
    {
     "name": "stdout",
     "output_type": "stream",
     "text": [
      "[[-0.5777946  -0.01985011]]\n"
     ]
    },
    {
     "data": {
      "application/vnd.jupyter.widget-view+json": {
       "model_id": "ec6d3449a9354918b7fba39a78729fbc",
       "version_major": 2,
       "version_minor": 0
      },
      "text/plain": [
       "sampling loop time step:   0%|          | 0/100 [00:00<?, ?it/s]"
      ]
     },
     "metadata": {},
     "output_type": "display_data"
    },
    {
     "name": "stdout",
     "output_type": "stream",
     "text": [
      "[[-0.5979055  -0.02011088]]\n"
     ]
    },
    {
     "data": {
      "application/vnd.jupyter.widget-view+json": {
       "model_id": "1c67360920ba42d28d7cf52f9d3889c6",
       "version_major": 2,
       "version_minor": 0
      },
      "text/plain": [
       "sampling loop time step:   0%|          | 0/100 [00:00<?, ?it/s]"
      ]
     },
     "metadata": {},
     "output_type": "display_data"
    },
    {
     "name": "stdout",
     "output_type": "stream",
     "text": [
      "[[-0.61810535 -0.02019984]]\n"
     ]
    },
    {
     "data": {
      "application/vnd.jupyter.widget-view+json": {
       "model_id": "c414f3f81e7143e2b3dad128925f3b6d",
       "version_major": 2,
       "version_minor": 0
      },
      "text/plain": [
       "sampling loop time step:   0%|          | 0/100 [00:00<?, ?it/s]"
      ]
     },
     "metadata": {},
     "output_type": "display_data"
    },
    {
     "name": "stdout",
     "output_type": "stream",
     "text": [
      "[[-0.6381813 -0.020076 ]]\n"
     ]
    },
    {
     "data": {
      "application/vnd.jupyter.widget-view+json": {
       "model_id": "5006a10d51b141c58d763d6be7ac3292",
       "version_major": 2,
       "version_minor": 0
      },
      "text/plain": [
       "sampling loop time step:   0%|          | 0/100 [00:00<?, ?it/s]"
      ]
     },
     "metadata": {},
     "output_type": "display_data"
    },
    {
     "name": "stdout",
     "output_type": "stream",
     "text": [
      "[[-0.657938   -0.01975667]]\n"
     ]
    },
    {
     "data": {
      "application/vnd.jupyter.widget-view+json": {
       "model_id": "ba316603311b4bceb7598ad0a9ee60a8",
       "version_major": 2,
       "version_minor": 0
      },
      "text/plain": [
       "sampling loop time step:   0%|          | 0/100 [00:00<?, ?it/s]"
      ]
     },
     "metadata": {},
     "output_type": "display_data"
    },
    {
     "name": "stdout",
     "output_type": "stream",
     "text": [
      "[[-0.6771817  -0.01924369]]\n"
     ]
    },
    {
     "data": {
      "application/vnd.jupyter.widget-view+json": {
       "model_id": "4542f6428ccb4b72a1fadb6e8df2b05f",
       "version_major": 2,
       "version_minor": 0
      },
      "text/plain": [
       "sampling loop time step:   0%|          | 0/100 [00:00<?, ?it/s]"
      ]
     },
     "metadata": {},
     "output_type": "display_data"
    },
    {
     "name": "stdout",
     "output_type": "stream",
     "text": [
      "[[-0.6957461 -0.0185644]]\n"
     ]
    },
    {
     "data": {
      "application/vnd.jupyter.widget-view+json": {
       "model_id": "526fd1e100454e6694ccd1e20adf87c9",
       "version_major": 2,
       "version_minor": 0
      },
      "text/plain": [
       "sampling loop time step:   0%|          | 0/100 [00:00<?, ?it/s]"
      ]
     },
     "metadata": {},
     "output_type": "display_data"
    },
    {
     "name": "stdout",
     "output_type": "stream",
     "text": [
      "[[-0.713418   -0.01767189]]\n"
     ]
    },
    {
     "data": {
      "application/vnd.jupyter.widget-view+json": {
       "model_id": "667b322d9a764b189aeb0619c9008cb4",
       "version_major": 2,
       "version_minor": 0
      },
      "text/plain": [
       "sampling loop time step:   0%|          | 0/100 [00:00<?, ?it/s]"
      ]
     },
     "metadata": {},
     "output_type": "display_data"
    },
    {
     "name": "stdout",
     "output_type": "stream",
     "text": [
      "[[-0.730052   -0.01663396]]\n"
     ]
    },
    {
     "data": {
      "application/vnd.jupyter.widget-view+json": {
       "model_id": "aab96ac3f79449d8a8e9917ba806baf0",
       "version_major": 2,
       "version_minor": 0
      },
      "text/plain": [
       "sampling loop time step:   0%|          | 0/100 [00:00<?, ?it/s]"
      ]
     },
     "metadata": {},
     "output_type": "display_data"
    },
    {
     "name": "stdout",
     "output_type": "stream",
     "text": [
      "[[-0.74545914 -0.01540717]]\n"
     ]
    },
    {
     "data": {
      "application/vnd.jupyter.widget-view+json": {
       "model_id": "684eabc7998844a5a1027203e50841be",
       "version_major": 2,
       "version_minor": 0
      },
      "text/plain": [
       "sampling loop time step:   0%|          | 0/100 [00:00<?, ?it/s]"
      ]
     },
     "metadata": {},
     "output_type": "display_data"
    },
    {
     "name": "stdout",
     "output_type": "stream",
     "text": [
      "[[-0.75946903 -0.0140099 ]]\n"
     ]
    },
    {
     "data": {
      "application/vnd.jupyter.widget-view+json": {
       "model_id": "4132ce22515d4592823c4ed9bff00438",
       "version_major": 2,
       "version_minor": 0
      },
      "text/plain": [
       "sampling loop time step:   0%|          | 0/100 [00:00<?, ?it/s]"
      ]
     },
     "metadata": {},
     "output_type": "display_data"
    },
    {
     "name": "stdout",
     "output_type": "stream",
     "text": [
      "[[-0.77197284 -0.01250382]]\n"
     ]
    },
    {
     "data": {
      "application/vnd.jupyter.widget-view+json": {
       "model_id": "a2321c9aa19d422491c6ba83b8f42ad6",
       "version_major": 2,
       "version_minor": 0
      },
      "text/plain": [
       "sampling loop time step:   0%|          | 0/100 [00:00<?, ?it/s]"
      ]
     },
     "metadata": {},
     "output_type": "display_data"
    },
    {
     "name": "stdout",
     "output_type": "stream",
     "text": [
      "[[-0.7828049  -0.01083208]]\n"
     ]
    },
    {
     "data": {
      "application/vnd.jupyter.widget-view+json": {
       "model_id": "e65a8c8ce834435ea74e32853ba1972c",
       "version_major": 2,
       "version_minor": 0
      },
      "text/plain": [
       "sampling loop time step:   0%|          | 0/100 [00:00<?, ?it/s]"
      ]
     },
     "metadata": {},
     "output_type": "display_data"
    },
    {
     "name": "stdout",
     "output_type": "stream",
     "text": [
      "[[-0.79186016 -0.00905525]]\n"
     ]
    },
    {
     "data": {
      "application/vnd.jupyter.widget-view+json": {
       "model_id": "b40bae92ab2c4e5da12e5a87afaea657",
       "version_major": 2,
       "version_minor": 0
      },
      "text/plain": [
       "sampling loop time step:   0%|          | 0/100 [00:00<?, ?it/s]"
      ]
     },
     "metadata": {},
     "output_type": "display_data"
    },
    {
     "name": "stdout",
     "output_type": "stream",
     "text": [
      "[[-0.79902935 -0.00716917]]\n"
     ]
    },
    {
     "data": {
      "application/vnd.jupyter.widget-view+json": {
       "model_id": "0609abe7b97544eb92f10c14735a0784",
       "version_major": 2,
       "version_minor": 0
      },
      "text/plain": [
       "sampling loop time step:   0%|          | 0/100 [00:00<?, ?it/s]"
      ]
     },
     "metadata": {},
     "output_type": "display_data"
    },
    {
     "name": "stdout",
     "output_type": "stream",
     "text": [
      "[[-0.8042236  -0.00519423]]\n"
     ]
    },
    {
     "data": {
      "application/vnd.jupyter.widget-view+json": {
       "model_id": "255e7af9781c4cad9a3f7df02c429729",
       "version_major": 2,
       "version_minor": 0
      },
      "text/plain": [
       "sampling loop time step:   0%|          | 0/100 [00:00<?, ?it/s]"
      ]
     },
     "metadata": {},
     "output_type": "display_data"
    },
    {
     "name": "stdout",
     "output_type": "stream",
     "text": [
      "[[-0.80735254 -0.00312893]]\n"
     ]
    },
    {
     "data": {
      "application/vnd.jupyter.widget-view+json": {
       "model_id": "dfec00ffe7db47ef853089c7aa2f71f8",
       "version_major": 2,
       "version_minor": 0
      },
      "text/plain": [
       "sampling loop time step:   0%|          | 0/100 [00:00<?, ?it/s]"
      ]
     },
     "metadata": {},
     "output_type": "display_data"
    },
    {
     "name": "stdout",
     "output_type": "stream",
     "text": [
      "[[-0.80836135 -0.0010088 ]]\n"
     ]
    },
    {
     "data": {
      "application/vnd.jupyter.widget-view+json": {
       "model_id": "ea70e6047fc84764bcaf5c397fa3faac",
       "version_major": 2,
       "version_minor": 0
      },
      "text/plain": [
       "sampling loop time step:   0%|          | 0/100 [00:00<?, ?it/s]"
      ]
     },
     "metadata": {},
     "output_type": "display_data"
    },
    {
     "name": "stdout",
     "output_type": "stream",
     "text": [
      "[[-0.807194    0.00116734]]\n"
     ]
    },
    {
     "data": {
      "application/vnd.jupyter.widget-view+json": {
       "model_id": "b78bee8ebda248b1ab35ffd425739901",
       "version_major": 2,
       "version_minor": 0
      },
      "text/plain": [
       "sampling loop time step:   0%|          | 0/100 [00:00<?, ?it/s]"
      ]
     },
     "metadata": {},
     "output_type": "display_data"
    },
    {
     "name": "stdout",
     "output_type": "stream",
     "text": [
      "[[-0.8037642   0.00342975]]\n"
     ]
    },
    {
     "data": {
      "application/vnd.jupyter.widget-view+json": {
       "model_id": "9c699e9e2d9e4a3ba7301e9697d7572c",
       "version_major": 2,
       "version_minor": 0
      },
      "text/plain": [
       "sampling loop time step:   0%|          | 0/100 [00:00<?, ?it/s]"
      ]
     },
     "metadata": {},
     "output_type": "display_data"
    },
    {
     "name": "stdout",
     "output_type": "stream",
     "text": [
      "[[-0.79799736  0.00576689]]\n"
     ]
    },
    {
     "data": {
      "application/vnd.jupyter.widget-view+json": {
       "model_id": "7252b13889ce4e7c9d00f7a63623a57e",
       "version_major": 2,
       "version_minor": 0
      },
      "text/plain": [
       "sampling loop time step:   0%|          | 0/100 [00:00<?, ?it/s]"
      ]
     },
     "metadata": {},
     "output_type": "display_data"
    },
    {
     "name": "stdout",
     "output_type": "stream",
     "text": [
      "[[-0.78981084  0.00818649]]\n"
     ]
    },
    {
     "data": {
      "application/vnd.jupyter.widget-view+json": {
       "model_id": "952d3ce68b2b4f42accdaa8950755946",
       "version_major": 2,
       "version_minor": 0
      },
      "text/plain": [
       "sampling loop time step:   0%|          | 0/100 [00:00<?, ?it/s]"
      ]
     },
     "metadata": {},
     "output_type": "display_data"
    },
    {
     "name": "stdout",
     "output_type": "stream",
     "text": [
      "[[-0.7791236   0.01068723]]\n"
     ]
    },
    {
     "data": {
      "application/vnd.jupyter.widget-view+json": {
       "model_id": "1f82edc7f5b449e3809476d74d561758",
       "version_major": 2,
       "version_minor": 0
      },
      "text/plain": [
       "sampling loop time step:   0%|          | 0/100 [00:00<?, ?it/s]"
      ]
     },
     "metadata": {},
     "output_type": "display_data"
    },
    {
     "name": "stdout",
     "output_type": "stream",
     "text": [
      "[[-0.7658829   0.01324068]]\n"
     ]
    },
    {
     "data": {
      "application/vnd.jupyter.widget-view+json": {
       "model_id": "251484a8e8c04e18afbae5a1e0e25c6d",
       "version_major": 2,
       "version_minor": 0
      },
      "text/plain": [
       "sampling loop time step:   0%|          | 0/100 [00:00<?, ?it/s]"
      ]
     },
     "metadata": {},
     "output_type": "display_data"
    },
    {
     "name": "stdout",
     "output_type": "stream",
     "text": [
      "[[-0.7500193   0.01586362]]\n"
     ]
    },
    {
     "data": {
      "application/vnd.jupyter.widget-view+json": {
       "model_id": "0c5ab7b5cc7040de87948909f89688dc",
       "version_major": 2,
       "version_minor": 0
      },
      "text/plain": [
       "sampling loop time step:   0%|          | 0/100 [00:00<?, ?it/s]"
      ]
     },
     "metadata": {},
     "output_type": "display_data"
    },
    {
     "name": "stdout",
     "output_type": "stream",
     "text": [
      "[[-0.73151684  0.0185025 ]]\n"
     ]
    },
    {
     "data": {
      "application/vnd.jupyter.widget-view+json": {
       "model_id": "47c8cf6b44364204a54cf8d63cb6d25b",
       "version_major": 2,
       "version_minor": 0
      },
      "text/plain": [
       "sampling loop time step:   0%|          | 0/100 [00:00<?, ?it/s]"
      ]
     },
     "metadata": {},
     "output_type": "display_data"
    },
    {
     "name": "stdout",
     "output_type": "stream",
     "text": [
      "[[-0.71037644  0.02114039]]\n"
     ]
    },
    {
     "data": {
      "application/vnd.jupyter.widget-view+json": {
       "model_id": "1908506a61a34866ae8e12365fd90a23",
       "version_major": 2,
       "version_minor": 0
      },
      "text/plain": [
       "sampling loop time step:   0%|          | 0/100 [00:00<?, ?it/s]"
      ]
     },
     "metadata": {},
     "output_type": "display_data"
    },
    {
     "name": "stdout",
     "output_type": "stream",
     "text": [
      "[[-0.68664324  0.02373323]]\n"
     ]
    },
    {
     "data": {
      "application/vnd.jupyter.widget-view+json": {
       "model_id": "2d0d326870c540de892ae65c08c140fc",
       "version_major": 2,
       "version_minor": 0
      },
      "text/plain": [
       "sampling loop time step:   0%|          | 0/100 [00:00<?, ?it/s]"
      ]
     },
     "metadata": {},
     "output_type": "display_data"
    },
    {
     "name": "stdout",
     "output_type": "stream",
     "text": [
      "[[-0.66040343  0.02623979]]\n"
     ]
    },
    {
     "data": {
      "application/vnd.jupyter.widget-view+json": {
       "model_id": "ec52db0021f745f68e3cf2cf7df43c10",
       "version_major": 2,
       "version_minor": 0
      },
      "text/plain": [
       "sampling loop time step:   0%|          | 0/100 [00:00<?, ?it/s]"
      ]
     },
     "metadata": {},
     "output_type": "display_data"
    },
    {
     "name": "stdout",
     "output_type": "stream",
     "text": [
      "[[-0.6317808   0.02862264]]\n"
     ]
    },
    {
     "data": {
      "application/vnd.jupyter.widget-view+json": {
       "model_id": "27c3359907ac4399825f6ad6c2688ebf",
       "version_major": 2,
       "version_minor": 0
      },
      "text/plain": [
       "sampling loop time step:   0%|          | 0/100 [00:00<?, ?it/s]"
      ]
     },
     "metadata": {},
     "output_type": "display_data"
    },
    {
     "name": "stdout",
     "output_type": "stream",
     "text": [
      "[[-0.60093087  0.03084996]]\n"
     ]
    },
    {
     "data": {
      "application/vnd.jupyter.widget-view+json": {
       "model_id": "50e2054390814ddaad147c7dd6bf4493",
       "version_major": 2,
       "version_minor": 0
      },
      "text/plain": [
       "sampling loop time step:   0%|          | 0/100 [00:00<?, ?it/s]"
      ]
     },
     "metadata": {},
     "output_type": "display_data"
    },
    {
     "name": "stdout",
     "output_type": "stream",
     "text": [
      "[[-0.56807977  0.03285109]]\n"
     ]
    },
    {
     "data": {
      "application/vnd.jupyter.widget-view+json": {
       "model_id": "850fbf59f8714f30a06586fec45cd06f",
       "version_major": 2,
       "version_minor": 0
      },
      "text/plain": [
       "sampling loop time step:   0%|          | 0/100 [00:00<?, ?it/s]"
      ]
     },
     "metadata": {},
     "output_type": "display_data"
    },
    {
     "name": "stdout",
     "output_type": "stream",
     "text": [
      "[[-0.5334506   0.03462915]]\n"
     ]
    },
    {
     "data": {
      "application/vnd.jupyter.widget-view+json": {
       "model_id": "e697b816303646658c3166fc4442fa9b",
       "version_major": 2,
       "version_minor": 0
      },
      "text/plain": [
       "sampling loop time step:   0%|          | 0/100 [00:00<?, ?it/s]"
      ]
     },
     "metadata": {},
     "output_type": "display_data"
    },
    {
     "name": "stdout",
     "output_type": "stream",
     "text": [
      "[[-0.49726897  0.03618164]]\n"
     ]
    },
    {
     "data": {
      "application/vnd.jupyter.widget-view+json": {
       "model_id": "d0ce772138604228a33169041272a4d4",
       "version_major": 2,
       "version_minor": 0
      },
      "text/plain": [
       "sampling loop time step:   0%|          | 0/100 [00:00<?, ?it/s]"
      ]
     },
     "metadata": {},
     "output_type": "display_data"
    },
    {
     "name": "stdout",
     "output_type": "stream",
     "text": [
      "[[-0.45982006  0.03744891]]\n"
     ]
    },
    {
     "data": {
      "application/vnd.jupyter.widget-view+json": {
       "model_id": "ee8a44a6d1f84d15b5d453a1b2afbaf2",
       "version_major": 2,
       "version_minor": 0
      },
      "text/plain": [
       "sampling loop time step:   0%|          | 0/100 [00:00<?, ?it/s]"
      ]
     },
     "metadata": {},
     "output_type": "display_data"
    },
    {
     "name": "stdout",
     "output_type": "stream",
     "text": [
      "[[-0.4213747   0.03844535]]\n"
     ]
    },
    {
     "data": {
      "application/vnd.jupyter.widget-view+json": {
       "model_id": "956e2e9ba8d948eda908c2fe225616b1",
       "version_major": 2,
       "version_minor": 0
      },
      "text/plain": [
       "sampling loop time step:   0%|          | 0/100 [00:00<?, ?it/s]"
      ]
     },
     "metadata": {},
     "output_type": "display_data"
    },
    {
     "name": "stdout",
     "output_type": "stream",
     "text": [
      "[[-0.38222137  0.03915335]]\n"
     ]
    },
    {
     "data": {
      "application/vnd.jupyter.widget-view+json": {
       "model_id": "e1ec784de4004d989c74c009c55a9c9d",
       "version_major": 2,
       "version_minor": 0
      },
      "text/plain": [
       "sampling loop time step:   0%|          | 0/100 [00:00<?, ?it/s]"
      ]
     },
     "metadata": {},
     "output_type": "display_data"
    },
    {
     "name": "stdout",
     "output_type": "stream",
     "text": [
      "[[-0.34261483  0.03960653]]\n"
     ]
    },
    {
     "data": {
      "application/vnd.jupyter.widget-view+json": {
       "model_id": "289374b8bd5c4869ae0945e6b91e5bd9",
       "version_major": 2,
       "version_minor": 0
      },
      "text/plain": [
       "sampling loop time step:   0%|          | 0/100 [00:00<?, ?it/s]"
      ]
     },
     "metadata": {},
     "output_type": "display_data"
    },
    {
     "name": "stdout",
     "output_type": "stream",
     "text": [
      "[[-0.30285466  0.03976018]]\n"
     ]
    },
    {
     "data": {
      "application/vnd.jupyter.widget-view+json": {
       "model_id": "93a671951a0e42c0a16e1a0f4e546031",
       "version_major": 2,
       "version_minor": 0
      },
      "text/plain": [
       "sampling loop time step:   0%|          | 0/100 [00:00<?, ?it/s]"
      ]
     },
     "metadata": {},
     "output_type": "display_data"
    },
    {
     "name": "stdout",
     "output_type": "stream",
     "text": [
      "[[-0.26315278  0.03970189]]\n"
     ]
    },
    {
     "data": {
      "application/vnd.jupyter.widget-view+json": {
       "model_id": "188e8a8eb2a94393a5fbffdc955cb950",
       "version_major": 2,
       "version_minor": 0
      },
      "text/plain": [
       "sampling loop time step:   0%|          | 0/100 [00:00<?, ?it/s]"
      ]
     },
     "metadata": {},
     "output_type": "display_data"
    },
    {
     "name": "stdout",
     "output_type": "stream",
     "text": [
      "[[-0.22375643  0.03939635]]\n"
     ]
    },
    {
     "data": {
      "application/vnd.jupyter.widget-view+json": {
       "model_id": "b2f0cf7d8f3440718d69fda87bc71cd3",
       "version_major": 2,
       "version_minor": 0
      },
      "text/plain": [
       "sampling loop time step:   0%|          | 0/100 [00:00<?, ?it/s]"
      ]
     },
     "metadata": {},
     "output_type": "display_data"
    },
    {
     "name": "stdout",
     "output_type": "stream",
     "text": [
      "[[-0.18483634  0.03892009]]\n"
     ]
    },
    {
     "data": {
      "application/vnd.jupyter.widget-view+json": {
       "model_id": "6d61bc9a278b4a9b8aa2810aa392c76f",
       "version_major": 2,
       "version_minor": 0
      },
      "text/plain": [
       "sampling loop time step:   0%|          | 0/100 [00:00<?, ?it/s]"
      ]
     },
     "metadata": {},
     "output_type": "display_data"
    },
    {
     "name": "stdout",
     "output_type": "stream",
     "text": [
      "[[-0.14656147  0.03827487]]\n"
     ]
    },
    {
     "data": {
      "application/vnd.jupyter.widget-view+json": {
       "model_id": "f959b594cecf478caad3cdad7af2a060",
       "version_major": 2,
       "version_minor": 0
      },
      "text/plain": [
       "sampling loop time step:   0%|          | 0/100 [00:00<?, ?it/s]"
      ]
     },
     "metadata": {},
     "output_type": "display_data"
    },
    {
     "name": "stdout",
     "output_type": "stream",
     "text": [
      "[[-0.10906814  0.03749333]]\n"
     ]
    },
    {
     "data": {
      "application/vnd.jupyter.widget-view+json": {
       "model_id": "4bf072b50bac493daa761c1344429dfd",
       "version_major": 2,
       "version_minor": 0
      },
      "text/plain": [
       "sampling loop time step:   0%|          | 0/100 [00:00<?, ?it/s]"
      ]
     },
     "metadata": {},
     "output_type": "display_data"
    },
    {
     "name": "stdout",
     "output_type": "stream",
     "text": [
      "[[-0.07245228  0.03661586]]\n"
     ]
    },
    {
     "data": {
      "application/vnd.jupyter.widget-view+json": {
       "model_id": "bc96378bc17141c9a75a68afeb4d995a",
       "version_major": 2,
       "version_minor": 0
      },
      "text/plain": [
       "sampling loop time step:   0%|          | 0/100 [00:00<?, ?it/s]"
      ]
     },
     "metadata": {},
     "output_type": "display_data"
    },
    {
     "name": "stdout",
     "output_type": "stream",
     "text": [
      "[[-0.0368095   0.03564278]]\n"
     ]
    },
    {
     "data": {
      "application/vnd.jupyter.widget-view+json": {
       "model_id": "8d59aefb2a294049ac5152e5245fb9d4",
       "version_major": 2,
       "version_minor": 0
      },
      "text/plain": [
       "sampling loop time step:   0%|          | 0/100 [00:00<?, ?it/s]"
      ]
     },
     "metadata": {},
     "output_type": "display_data"
    },
    {
     "name": "stdout",
     "output_type": "stream",
     "text": [
      "[[-0.00217848  0.03463102]]\n"
     ]
    },
    {
     "data": {
      "application/vnd.jupyter.widget-view+json": {
       "model_id": "16e26c8514a44955ac0aa1766092bd91",
       "version_major": 2,
       "version_minor": 0
      },
      "text/plain": [
       "sampling loop time step:   0%|          | 0/100 [00:00<?, ?it/s]"
      ]
     },
     "metadata": {},
     "output_type": "display_data"
    },
    {
     "name": "stdout",
     "output_type": "stream",
     "text": [
      "[[0.0314226  0.03360109]]\n"
     ]
    },
    {
     "data": {
      "application/vnd.jupyter.widget-view+json": {
       "model_id": "a9a4e7d905384fb7a10a52a39056a10c",
       "version_major": 2,
       "version_minor": 0
      },
      "text/plain": [
       "sampling loop time step:   0%|          | 0/100 [00:00<?, ?it/s]"
      ]
     },
     "metadata": {},
     "output_type": "display_data"
    },
    {
     "name": "stdout",
     "output_type": "stream",
     "text": [
      "[[0.06402238 0.03259978]]\n"
     ]
    },
    {
     "data": {
      "application/vnd.jupyter.widget-view+json": {
       "model_id": "8a9d30c6869f48978dd7d5f0d5a94e98",
       "version_major": 2,
       "version_minor": 0
      },
      "text/plain": [
       "sampling loop time step:   0%|          | 0/100 [00:00<?, ?it/s]"
      ]
     },
     "metadata": {},
     "output_type": "display_data"
    },
    {
     "name": "stdout",
     "output_type": "stream",
     "text": [
      "[[0.09565756 0.03163518]]\n"
     ]
    },
    {
     "data": {
      "application/vnd.jupyter.widget-view+json": {
       "model_id": "ce437d2b0a6c4c8c8282c3c1c956f758",
       "version_major": 2,
       "version_minor": 0
      },
      "text/plain": [
       "sampling loop time step:   0%|          | 0/100 [00:00<?, ?it/s]"
      ]
     },
     "metadata": {},
     "output_type": "display_data"
    },
    {
     "name": "stdout",
     "output_type": "stream",
     "text": [
      "[[0.12636814 0.03071057]]\n"
     ]
    },
    {
     "data": {
      "application/vnd.jupyter.widget-view+json": {
       "model_id": "18ce255613f34882860a6b5251f25be2",
       "version_major": 2,
       "version_minor": 0
      },
      "text/plain": [
       "sampling loop time step:   0%|          | 0/100 [00:00<?, ?it/s]"
      ]
     },
     "metadata": {},
     "output_type": "display_data"
    },
    {
     "name": "stdout",
     "output_type": "stream",
     "text": [
      "[[0.15625621 0.02988808]]\n"
     ]
    },
    {
     "data": {
      "application/vnd.jupyter.widget-view+json": {
       "model_id": "775b380e20bf4591a3ce5f3a9a268195",
       "version_major": 2,
       "version_minor": 0
      },
      "text/plain": [
       "sampling loop time step:   0%|          | 0/100 [00:00<?, ?it/s]"
      ]
     },
     "metadata": {},
     "output_type": "display_data"
    },
    {
     "name": "stdout",
     "output_type": "stream",
     "text": [
      "[[0.18539083 0.02913462]]\n"
     ]
    },
    {
     "data": {
      "application/vnd.jupyter.widget-view+json": {
       "model_id": "5ee550b59f4e4db2a728c4a4534e6490",
       "version_major": 2,
       "version_minor": 0
      },
      "text/plain": [
       "sampling loop time step:   0%|          | 0/100 [00:00<?, ?it/s]"
      ]
     },
     "metadata": {},
     "output_type": "display_data"
    },
    {
     "name": "stdout",
     "output_type": "stream",
     "text": [
      "[[0.21388198 0.02849116]]\n"
     ]
    },
    {
     "data": {
      "application/vnd.jupyter.widget-view+json": {
       "model_id": "4495fe3ecc9d42fbabde468591cc2f83",
       "version_major": 2,
       "version_minor": 0
      },
      "text/plain": [
       "sampling loop time step:   0%|          | 0/100 [00:00<?, ?it/s]"
      ]
     },
     "metadata": {},
     "output_type": "display_data"
    },
    {
     "name": "stdout",
     "output_type": "stream",
     "text": [
      "[[0.24183904 0.02795705]]\n"
     ]
    },
    {
     "data": {
      "application/vnd.jupyter.widget-view+json": {
       "model_id": "e5ea917dcdaf495aa261d2f08b3c4046",
       "version_major": 2,
       "version_minor": 0
      },
      "text/plain": [
       "sampling loop time step:   0%|          | 0/100 [00:00<?, ?it/s]"
      ]
     },
     "metadata": {},
     "output_type": "display_data"
    },
    {
     "name": "stdout",
     "output_type": "stream",
     "text": [
      "[[0.26938337 0.02754432]]\n"
     ]
    },
    {
     "data": {
      "application/vnd.jupyter.widget-view+json": {
       "model_id": "3c9474d52ac14cffa6a245db1f4efbdc",
       "version_major": 2,
       "version_minor": 0
      },
      "text/plain": [
       "sampling loop time step:   0%|          | 0/100 [00:00<?, ?it/s]"
      ]
     },
     "metadata": {},
     "output_type": "display_data"
    },
    {
     "name": "stdout",
     "output_type": "stream",
     "text": [
      "[[0.29666358 0.02728022]]\n"
     ]
    },
    {
     "data": {
      "application/vnd.jupyter.widget-view+json": {
       "model_id": "969174e0ec164af689a42aea05146c28",
       "version_major": 2,
       "version_minor": 0
      },
      "text/plain": [
       "sampling loop time step:   0%|          | 0/100 [00:00<?, ?it/s]"
      ]
     },
     "metadata": {},
     "output_type": "display_data"
    },
    {
     "name": "stdout",
     "output_type": "stream",
     "text": [
      "[[0.3238444  0.02718083]]\n"
     ]
    },
    {
     "data": {
      "application/vnd.jupyter.widget-view+json": {
       "model_id": "a5cca4ef1fd9409b90a7f7b8b2fd66be",
       "version_major": 2,
       "version_minor": 0
      },
      "text/plain": [
       "sampling loop time step:   0%|          | 0/100 [00:00<?, ?it/s]"
      ]
     },
     "metadata": {},
     "output_type": "display_data"
    },
    {
     "name": "stdout",
     "output_type": "stream",
     "text": [
      "[[0.3510915  0.02724711]]\n"
     ]
    },
    {
     "data": {
      "application/vnd.jupyter.widget-view+json": {
       "model_id": "9587f20fb8424cb9aef420dcee6508c0",
       "version_major": 2,
       "version_minor": 0
      },
      "text/plain": [
       "sampling loop time step:   0%|          | 0/100 [00:00<?, ?it/s]"
      ]
     },
     "metadata": {},
     "output_type": "display_data"
    },
    {
     "name": "stdout",
     "output_type": "stream",
     "text": [
      "[[0.37857598 0.02748449]]\n"
     ]
    },
    {
     "data": {
      "application/vnd.jupyter.widget-view+json": {
       "model_id": "4525788a96cf4fdfb38ba2abb198616c",
       "version_major": 2,
       "version_minor": 0
      },
      "text/plain": [
       "sampling loop time step:   0%|          | 0/100 [00:00<?, ?it/s]"
      ]
     },
     "metadata": {},
     "output_type": "display_data"
    },
    {
     "name": "stdout",
     "output_type": "stream",
     "text": [
      "[[0.4064931  0.02791713]]\n"
     ]
    },
    {
     "data": {
      "application/vnd.jupyter.widget-view+json": {
       "model_id": "486ffe6db91542b7a275c4b71679ce12",
       "version_major": 2,
       "version_minor": 0
      },
      "text/plain": [
       "sampling loop time step:   0%|          | 0/100 [00:00<?, ?it/s]"
      ]
     },
     "metadata": {},
     "output_type": "display_data"
    },
    {
     "name": "stdout",
     "output_type": "stream",
     "text": [
      "[[0.4350193  0.02852623]]\n"
     ]
    },
    {
     "data": {
      "application/vnd.jupyter.widget-view+json": {
       "model_id": "8e6391d848da411fa29b0aba77c8c357",
       "version_major": 2,
       "version_minor": 0
      },
      "text/plain": [
       "sampling loop time step:   0%|          | 0/100 [00:00<?, ?it/s]"
      ]
     },
     "metadata": {},
     "output_type": "display_data"
    },
    {
     "name": "stdout",
     "output_type": "stream",
     "text": [
      "reward at the end of the episode :  [99.90146]\n"
     ]
    }
   ],
   "source": [
    "for i in range(1):\n",
    "    obs = env.reset()\n",
    "    print(obs.shape)\n",
    "    done = False \n",
    "    while not done:\n",
    "        #action, _= best_model.predict(obs)\n",
    "        print(obs)\n",
    "        cond = torch.tensor((obs-bias)/scale).to(device)\n",
    "        samples = diffusion.conditional_sample(cond, model, image_size=1, batch_size=1)\n",
    "        action = samples[-1]\n",
    "        obs, reward, done, info = env.step(action)\n",
    "        if done:\n",
    "            print(\"reward at the end of the episode : \", reward)"
   ]
  },
  {
   "cell_type": "code",
   "execution_count": 21,
   "id": "c5b3a3b5",
   "metadata": {},
   "outputs": [
    {
     "name": "stderr",
     "output_type": "stream",
     "text": [
      "/tmp/ipykernel_1003954/3536313676.py:1: UserWarning: To copy construct from a tensor, it is recommended to use sourceTensor.clone().detach() or sourceTensor.clone().detach().requires_grad_(True), rather than torch.tensor(sourceTensor).\n",
      "  cond = torch.tensor(obs).to(device)\n"
     ]
    }
   ],
   "source": [
    "cond = torch.tensor(obs).to(device)"
   ]
  },
  {
   "cell_type": "code",
   "execution_count": 22,
   "id": "2f7c997a",
   "metadata": {},
   "outputs": [
    {
     "data": {
      "application/vnd.jupyter.widget-view+json": {
       "model_id": "c705f952e14140c1b345c8ab44763e67",
       "version_major": 2,
       "version_minor": 0
      },
      "text/plain": [
       "sampling loop time step:   0%|          | 0/10000 [00:00<?, ?it/s]"
      ]
     },
     "metadata": {},
     "output_type": "display_data"
    }
   ],
   "source": [
    "samples = diffusion.conditional_sample(cond, model, image_size=1, batch_size=1)"
   ]
  },
  {
   "cell_type": "code",
   "execution_count": 27,
   "id": "c43fd7d2",
   "metadata": {},
   "outputs": [
    {
     "ename": "AttributeError",
     "evalue": "'numpy.ndarray' object has no attribute 'detach'",
     "output_type": "error",
     "traceback": [
      "\u001b[0;31m---------------------------------------------------------------------------\u001b[0m",
      "\u001b[0;31mAttributeError\u001b[0m                            Traceback (most recent call last)",
      "Cell \u001b[0;32mIn[27], line 1\u001b[0m\n\u001b[0;32m----> 1\u001b[0m \u001b[43msamples\u001b[49m\u001b[43m[\u001b[49m\u001b[38;5;241;43m-\u001b[39;49m\u001b[38;5;241;43m1\u001b[39;49m\u001b[43m]\u001b[49m\u001b[38;5;241;43m.\u001b[39;49m\u001b[43mdetach\u001b[49m()\n",
      "\u001b[0;31mAttributeError\u001b[0m: 'numpy.ndarray' object has no attribute 'detach'"
     ]
    }
   ],
   "source": [
    "samples[-1].detach()"
   ]
  },
  {
   "cell_type": "code",
   "execution_count": null,
   "id": "00196d58",
   "metadata": {},
   "outputs": [],
   "source": []
  }
 ],
 "metadata": {
  "kernelspec": {
   "display_name": "Python 3 (ipykernel)",
   "language": "python",
   "name": "python3"
  },
  "language_info": {
   "codemirror_mode": {
    "name": "ipython",
    "version": 3
   },
   "file_extension": ".py",
   "mimetype": "text/x-python",
   "name": "python",
   "nbconvert_exporter": "python",
   "pygments_lexer": "ipython3",
   "version": "3.8.16"
  }
 },
 "nbformat": 4,
 "nbformat_minor": 5
}
