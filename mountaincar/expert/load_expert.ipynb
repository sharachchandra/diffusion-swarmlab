{
 "cells": [
  {
   "cell_type": "code",
   "execution_count": 1,
   "metadata": {},
   "outputs": [],
   "source": [
    "import os\n",
    "import gym\n",
    "import numpy as np\n",
    "from stable_baselines3 import SAC\n",
    "from stable_baselines3.common.env_util import make_vec_env\n",
    "from stable_baselines3.common.vec_env import VecVideoRecorder, DummyVecEnv\n",
    "import platform\n",
    "if platform.system() == \"Linux\":\n",
    "    os.environ['PYOPENGL_PLATFORM'] = 'egl'"
   ]
  },
  {
   "cell_type": "code",
   "execution_count": 2,
   "metadata": {},
   "outputs": [],
   "source": [
    "### Select environment\n",
    "env_id = \"MountainCarContinuous-v0\"\n",
    "# Note that the algorithm is SAC\n",
    "\n",
    "gym_env = gym.make(env_id)\n",
    "max_obs_values = gym_env.observation_space.high\n",
    "min_obs_values = gym_env.observation_space.low\n",
    "\n",
    "max_act_value = gym_env.action_space.high\n",
    "min_act_value = gym_env.action_space.low\n",
    "\n",
    "bias = max_obs_values + min_obs_values\n",
    "bias = bias / 2\n",
    "scale = max_obs_values - min_obs_values\n",
    "scale = scale / 2"
   ]
  },
  {
   "cell_type": "code",
   "execution_count": 4,
   "metadata": {},
   "outputs": [],
   "source": [
    "env = make_vec_env(env_id, n_envs=1)\n",
    "best_model = SAC.load('/home/sai-admin/advanced_ml_project/rl-baselines3-zoo/rl-trained-agents/sac/' + \n",
    "                      env_id + '_1/' + \n",
    "                      env_id + '.zip', env=env)\n",
    "obs = env.reset()\n"
   ]
  },
  {
   "cell_type": "code",
   "execution_count": 6,
   "metadata": {},
   "outputs": [
    {
     "data": {
      "text/plain": [
       "(1, 2)"
      ]
     },
     "execution_count": 6,
     "metadata": {},
     "output_type": "execute_result"
    }
   ],
   "source": []
  },
  {
   "cell_type": "code",
   "execution_count": 31,
   "metadata": {},
   "outputs": [],
   "source": [
    "#video_folder = 'logs/videos/'\n",
    "#os.makedirs(video_folder, exist_ok=True)\n",
    "\n",
    "env = make_vec_env(env_id, n_envs=1)\n",
    "best_model = SAC.load('/home/sai-admin/advanced_ml_project/rl-baselines3-zoo/rl-trained-agents/sac/' + \n",
    "                      env_id + '_1/' + \n",
    "                      env_id + '.zip', env=env)\n",
    "\n",
    "# video_length = 1000\n",
    "# video_env = VecVideoRecorder(env, video_folder,\n",
    "#                        record_video_trigger=lambda x: x == 0, video_length=video_length,\n",
    "#                        name_prefix=\"random-agent-{}\".format(env_id))\n",
    "\n",
    "# video_env.reset()\n",
    "# for i in range(video_length + 1):\n",
    "#     print(i)\n",
    "#     action, _states = best_model.predict(obs)\n",
    "#     obs, _, _, _ = video_env.step(action)\n",
    "# video_env.close()\n",
    "\n",
    "obs = env.reset()\n",
    "\n",
    "num_pairs = 1000000\n",
    "expert_demo = np.zeros((num_pairs, obs.shape[1]+1))\n",
    "i = 0\n",
    "while i < num_pairs:\n",
    "    action, _= best_model.predict(obs)\n",
    "    sa_pair = np.concatenate((obs, action), axis=1).squeeze(0)\n",
    "    expert_demo[i] = sa_pair\n",
    "    obs, reward, done, info = env.step(action)\n",
    "    i += 1    \n",
    "            "
   ]
  },
  {
   "cell_type": "code",
   "execution_count": 32,
   "metadata": {},
   "outputs": [],
   "source": [
    "expert_demo_path = 'logs/expert_demonstrations'\n",
    "np.save(expert_demo_path, expert_demo)\n",
    "expert_demo[:, :2] = expert_demo[:, :2] - bias\n",
    "expert_demo[:, :2] = expert_demo[:, :2] / scale\n",
    "normalized_expert_demo_path = 'logs/expert_demonstrations'\n",
    "np.save(normalized_expert_demo_path, expert_demo)"
   ]
  },
  {
   "cell_type": "code",
   "execution_count": 34,
   "metadata": {},
   "outputs": [
    {
     "data": {
      "text/plain": [
       "(1000000, 3)"
      ]
     },
     "execution_count": 34,
     "metadata": {},
     "output_type": "execute_result"
    }
   ],
   "source": [
    "expert_demo.shape"
   ]
  },
  {
   "cell_type": "code",
   "execution_count": 24,
   "metadata": {},
   "outputs": [
    {
     "data": {
      "text/plain": [
       "-0.4811970863926244"
      ]
     },
     "execution_count": 24,
     "metadata": {},
     "output_type": "execute_result"
    }
   ],
   "source": [
    "np.min(expert_demo)"
   ]
  },
  {
   "cell_type": "code",
   "execution_count": null,
   "metadata": {},
   "outputs": [],
   "source": []
  }
 ],
 "metadata": {
  "kernelspec": {
   "display_name": "Python 3 (ipykernel)",
   "language": "python",
   "name": "python3"
  },
  "language_info": {
   "codemirror_mode": {
    "name": "ipython",
    "version": 3
   },
   "file_extension": ".py",
   "mimetype": "text/x-python",
   "name": "python",
   "nbconvert_exporter": "python",
   "pygments_lexer": "ipython3",
   "version": "3.8.16"
  }
 },
 "nbformat": 4,
 "nbformat_minor": 2
}
