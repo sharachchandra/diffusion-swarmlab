{
 "cells": [
  {
   "cell_type": "code",
   "execution_count": 1,
   "metadata": {},
   "outputs": [
    {
     "name": "stderr",
     "output_type": "stream",
     "text": [
      "/home/sb59938/anaconda3/envs/ddpm/lib/python3.10/site-packages/stable_baselines3/common/save_util.py:166: UserWarning: Could not deserialize object learning_rate. Consider using `custom_objects` argument to replace this object.\n",
      "Exception: 'bytes' object cannot be interpreted as an integer\n",
      "  warnings.warn(\n",
      "/home/sb59938/anaconda3/envs/ddpm/lib/python3.10/site-packages/stable_baselines3/common/save_util.py:166: UserWarning: Could not deserialize object lr_schedule. Consider using `custom_objects` argument to replace this object.\n",
      "Exception: 'bytes' object cannot be interpreted as an integer\n",
      "  warnings.warn(\n"
     ]
    },
    {
     "ename": "NoSuchDisplayException",
     "evalue": "Cannot connect to \"None\"",
     "output_type": "error",
     "traceback": [
      "\u001b[0;31m---------------------------------------------------------------------------\u001b[0m",
      "\u001b[0;31mNoSuchDisplayException\u001b[0m                    Traceback (most recent call last)",
      "Cell \u001b[0;32mIn[1], line 30\u001b[0m\n\u001b[1;32m     25\u001b[0m video_length \u001b[39m=\u001b[39m \u001b[39m1000\u001b[39m\n\u001b[1;32m     26\u001b[0m video_env \u001b[39m=\u001b[39m VecVideoRecorder(env, video_folder,\n\u001b[1;32m     27\u001b[0m                        record_video_trigger\u001b[39m=\u001b[39m\u001b[39mlambda\u001b[39;00m x: x \u001b[39m==\u001b[39m \u001b[39m0\u001b[39m, video_length\u001b[39m=\u001b[39mvideo_length,\n\u001b[1;32m     28\u001b[0m                        name_prefix\u001b[39m=\u001b[39m\u001b[39m\"\u001b[39m\u001b[39mrandom-agent-\u001b[39m\u001b[39m{}\u001b[39;00m\u001b[39m\"\u001b[39m\u001b[39m.\u001b[39mformat(env_id))\n\u001b[0;32m---> 30\u001b[0m video_env\u001b[39m.\u001b[39;49mreset()\n\u001b[1;32m     31\u001b[0m \u001b[39mfor\u001b[39;00m i \u001b[39min\u001b[39;00m \u001b[39mrange\u001b[39m(video_length \u001b[39m+\u001b[39m \u001b[39m1\u001b[39m):\n\u001b[1;32m     32\u001b[0m     \u001b[39mprint\u001b[39m(i)\n",
      "File \u001b[0;32m~/anaconda3/envs/ddpm/lib/python3.10/site-packages/stable_baselines3/common/vec_env/vec_video_recorder.py:67\u001b[0m, in \u001b[0;36mVecVideoRecorder.reset\u001b[0;34m(self)\u001b[0m\n\u001b[1;32m     65\u001b[0m \u001b[39mdef\u001b[39;00m \u001b[39mreset\u001b[39m(\u001b[39mself\u001b[39m) \u001b[39m-\u001b[39m\u001b[39m>\u001b[39m VecEnvObs:\n\u001b[1;32m     66\u001b[0m     obs \u001b[39m=\u001b[39m \u001b[39mself\u001b[39m\u001b[39m.\u001b[39mvenv\u001b[39m.\u001b[39mreset()\n\u001b[0;32m---> 67\u001b[0m     \u001b[39mself\u001b[39;49m\u001b[39m.\u001b[39;49mstart_video_recorder()\n\u001b[1;32m     68\u001b[0m     \u001b[39mreturn\u001b[39;00m obs\n",
      "File \u001b[0;32m~/anaconda3/envs/ddpm/lib/python3.10/site-packages/stable_baselines3/common/vec_env/vec_video_recorder.py:79\u001b[0m, in \u001b[0;36mVecVideoRecorder.start_video_recorder\u001b[0;34m(self)\u001b[0m\n\u001b[1;32m     74\u001b[0m base_path \u001b[39m=\u001b[39m os\u001b[39m.\u001b[39mpath\u001b[39m.\u001b[39mjoin(\u001b[39mself\u001b[39m\u001b[39m.\u001b[39mvideo_folder, video_name)\n\u001b[1;32m     75\u001b[0m \u001b[39mself\u001b[39m\u001b[39m.\u001b[39mvideo_recorder \u001b[39m=\u001b[39m video_recorder\u001b[39m.\u001b[39mVideoRecorder(\n\u001b[1;32m     76\u001b[0m     env\u001b[39m=\u001b[39m\u001b[39mself\u001b[39m\u001b[39m.\u001b[39menv, base_path\u001b[39m=\u001b[39mbase_path, metadata\u001b[39m=\u001b[39m{\u001b[39m\"\u001b[39m\u001b[39mstep_id\u001b[39m\u001b[39m\"\u001b[39m: \u001b[39mself\u001b[39m\u001b[39m.\u001b[39mstep_id}\n\u001b[1;32m     77\u001b[0m )\n\u001b[0;32m---> 79\u001b[0m \u001b[39mself\u001b[39;49m\u001b[39m.\u001b[39;49mvideo_recorder\u001b[39m.\u001b[39;49mcapture_frame()\n\u001b[1;32m     80\u001b[0m \u001b[39mself\u001b[39m\u001b[39m.\u001b[39mrecorded_frames \u001b[39m=\u001b[39m \u001b[39m1\u001b[39m\n\u001b[1;32m     81\u001b[0m \u001b[39mself\u001b[39m\u001b[39m.\u001b[39mrecording \u001b[39m=\u001b[39m \u001b[39mTrue\u001b[39;00m\n",
      "File \u001b[0;32m~/anaconda3/envs/ddpm/lib/python3.10/site-packages/gym/wrappers/monitoring/video_recorder.py:132\u001b[0m, in \u001b[0;36mVideoRecorder.capture_frame\u001b[0;34m(self)\u001b[0m\n\u001b[1;32m    129\u001b[0m logger\u001b[39m.\u001b[39mdebug(\u001b[39m\"\u001b[39m\u001b[39mCapturing video frame: path=\u001b[39m\u001b[39m%s\u001b[39;00m\u001b[39m\"\u001b[39m, \u001b[39mself\u001b[39m\u001b[39m.\u001b[39mpath)\n\u001b[1;32m    131\u001b[0m render_mode \u001b[39m=\u001b[39m \u001b[39m\"\u001b[39m\u001b[39mansi\u001b[39m\u001b[39m\"\u001b[39m \u001b[39mif\u001b[39;00m \u001b[39mself\u001b[39m\u001b[39m.\u001b[39mansi_mode \u001b[39melse\u001b[39;00m \u001b[39m\"\u001b[39m\u001b[39mrgb_array\u001b[39m\u001b[39m\"\u001b[39m\n\u001b[0;32m--> 132\u001b[0m frame \u001b[39m=\u001b[39m \u001b[39mself\u001b[39;49m\u001b[39m.\u001b[39;49menv\u001b[39m.\u001b[39;49mrender(mode\u001b[39m=\u001b[39;49mrender_mode)\n\u001b[1;32m    134\u001b[0m \u001b[39mif\u001b[39;00m frame \u001b[39mis\u001b[39;00m \u001b[39mNone\u001b[39;00m:\n\u001b[1;32m    135\u001b[0m     \u001b[39mif\u001b[39;00m \u001b[39mself\u001b[39m\u001b[39m.\u001b[39m_async:\n",
      "File \u001b[0;32m~/anaconda3/envs/ddpm/lib/python3.10/site-packages/stable_baselines3/common/vec_env/dummy_vec_env.py:98\u001b[0m, in \u001b[0;36mDummyVecEnv.render\u001b[0;34m(self, mode)\u001b[0m\n\u001b[1;32m     86\u001b[0m \u001b[39m\u001b[39m\u001b[39m\"\"\"\u001b[39;00m\n\u001b[1;32m     87\u001b[0m \u001b[39mGym environment rendering. If there are multiple environments then\u001b[39;00m\n\u001b[1;32m     88\u001b[0m \u001b[39mthey are tiled together in one image via ``BaseVecEnv.render()``.\u001b[39;00m\n\u001b[0;32m   (...)\u001b[0m\n\u001b[1;32m     95\u001b[0m \u001b[39m:param mode: The rendering type.\u001b[39;00m\n\u001b[1;32m     96\u001b[0m \u001b[39m\"\"\"\u001b[39;00m\n\u001b[1;32m     97\u001b[0m \u001b[39mif\u001b[39;00m \u001b[39mself\u001b[39m\u001b[39m.\u001b[39mnum_envs \u001b[39m==\u001b[39m \u001b[39m1\u001b[39m:\n\u001b[0;32m---> 98\u001b[0m     \u001b[39mreturn\u001b[39;00m \u001b[39mself\u001b[39;49m\u001b[39m.\u001b[39;49menvs[\u001b[39m0\u001b[39;49m]\u001b[39m.\u001b[39;49mrender(mode\u001b[39m=\u001b[39;49mmode)\n\u001b[1;32m     99\u001b[0m \u001b[39melse\u001b[39;00m:\n\u001b[1;32m    100\u001b[0m     \u001b[39mreturn\u001b[39;00m \u001b[39msuper\u001b[39m()\u001b[39m.\u001b[39mrender(mode\u001b[39m=\u001b[39mmode)\n",
      "File \u001b[0;32m~/anaconda3/envs/ddpm/lib/python3.10/site-packages/gym/core.py:295\u001b[0m, in \u001b[0;36mWrapper.render\u001b[0;34m(self, mode, **kwargs)\u001b[0m\n\u001b[1;32m    294\u001b[0m \u001b[39mdef\u001b[39;00m \u001b[39mrender\u001b[39m(\u001b[39mself\u001b[39m, mode\u001b[39m=\u001b[39m\u001b[39m\"\u001b[39m\u001b[39mhuman\u001b[39m\u001b[39m\"\u001b[39m, \u001b[39m*\u001b[39m\u001b[39m*\u001b[39mkwargs):\n\u001b[0;32m--> 295\u001b[0m     \u001b[39mreturn\u001b[39;00m \u001b[39mself\u001b[39;49m\u001b[39m.\u001b[39;49menv\u001b[39m.\u001b[39;49mrender(mode, \u001b[39m*\u001b[39;49m\u001b[39m*\u001b[39;49mkwargs)\n",
      "File \u001b[0;32m~/anaconda3/envs/ddpm/lib/python3.10/site-packages/gym/core.py:295\u001b[0m, in \u001b[0;36mWrapper.render\u001b[0;34m(self, mode, **kwargs)\u001b[0m\n\u001b[1;32m    294\u001b[0m \u001b[39mdef\u001b[39;00m \u001b[39mrender\u001b[39m(\u001b[39mself\u001b[39m, mode\u001b[39m=\u001b[39m\u001b[39m\"\u001b[39m\u001b[39mhuman\u001b[39m\u001b[39m\"\u001b[39m, \u001b[39m*\u001b[39m\u001b[39m*\u001b[39mkwargs):\n\u001b[0;32m--> 295\u001b[0m     \u001b[39mreturn\u001b[39;00m \u001b[39mself\u001b[39;49m\u001b[39m.\u001b[39;49menv\u001b[39m.\u001b[39;49mrender(mode, \u001b[39m*\u001b[39;49m\u001b[39m*\u001b[39;49mkwargs)\n",
      "File \u001b[0;32m~/anaconda3/envs/ddpm/lib/python3.10/site-packages/gym/envs/classic_control/continuous_mountain_car.py:140\u001b[0m, in \u001b[0;36mContinuous_MountainCarEnv.render\u001b[0;34m(self, mode)\u001b[0m\n\u001b[1;32m    137\u001b[0m carheight \u001b[39m=\u001b[39m \u001b[39m20\u001b[39m\n\u001b[1;32m    139\u001b[0m \u001b[39mif\u001b[39;00m \u001b[39mself\u001b[39m\u001b[39m.\u001b[39mviewer \u001b[39mis\u001b[39;00m \u001b[39mNone\u001b[39;00m:\n\u001b[0;32m--> 140\u001b[0m     \u001b[39mfrom\u001b[39;00m \u001b[39mgym\u001b[39;00m\u001b[39m.\u001b[39;00m\u001b[39menvs\u001b[39;00m\u001b[39m.\u001b[39;00m\u001b[39mclassic_control\u001b[39;00m \u001b[39mimport\u001b[39;00m rendering\n\u001b[1;32m    142\u001b[0m     \u001b[39mself\u001b[39m\u001b[39m.\u001b[39mviewer \u001b[39m=\u001b[39m rendering\u001b[39m.\u001b[39mViewer(screen_width, screen_height)\n\u001b[1;32m    143\u001b[0m     xs \u001b[39m=\u001b[39m np\u001b[39m.\u001b[39mlinspace(\u001b[39mself\u001b[39m\u001b[39m.\u001b[39mmin_position, \u001b[39mself\u001b[39m\u001b[39m.\u001b[39mmax_position, \u001b[39m100\u001b[39m)\n",
      "File \u001b[0;32m~/anaconda3/envs/ddpm/lib/python3.10/site-packages/gym/envs/classic_control/rendering.py:27\u001b[0m\n\u001b[1;32m     17\u001b[0m     \u001b[39mraise\u001b[39;00m \u001b[39mImportError\u001b[39;00m(\n\u001b[1;32m     18\u001b[0m \u001b[39m        \u001b[39m\u001b[39m\"\"\"\u001b[39;00m\n\u001b[1;32m     19\u001b[0m \u001b[39m    Cannot import pyglet.\u001b[39;00m\n\u001b[0;32m   (...)\u001b[0m\n\u001b[1;32m     23\u001b[0m \u001b[39m    \"\"\"\u001b[39;00m\n\u001b[1;32m     24\u001b[0m     )\n\u001b[1;32m     26\u001b[0m \u001b[39mtry\u001b[39;00m:\n\u001b[0;32m---> 27\u001b[0m     \u001b[39mfrom\u001b[39;00m \u001b[39mpyglet\u001b[39;00m\u001b[39m.\u001b[39;00m\u001b[39mgl\u001b[39;00m \u001b[39mimport\u001b[39;00m \u001b[39m*\u001b[39m\n\u001b[1;32m     28\u001b[0m \u001b[39mexcept\u001b[39;00m \u001b[39mImportError\u001b[39;00m \u001b[39mas\u001b[39;00m e:\n\u001b[1;32m     29\u001b[0m     \u001b[39mraise\u001b[39;00m \u001b[39mImportError\u001b[39;00m(\n\u001b[1;32m     30\u001b[0m \u001b[39m        \u001b[39m\u001b[39m\"\"\"\u001b[39;00m\n\u001b[1;32m     31\u001b[0m \u001b[39m    Error occurred while running `from pyglet.gl import *`\u001b[39;00m\n\u001b[0;32m   (...)\u001b[0m\n\u001b[1;32m     35\u001b[0m \u001b[39m    \"\"\"\u001b[39;00m\n\u001b[1;32m     36\u001b[0m     )\n",
      "File \u001b[0;32m~/anaconda3/envs/ddpm/lib/python3.10/site-packages/pyglet/gl/__init__.py:191\u001b[0m\n\u001b[1;32m    188\u001b[0m \u001b[39mif\u001b[39;00m \u001b[39mnot\u001b[39;00m _is_pyglet_doc_run \u001b[39mand\u001b[39;00m \u001b[39m'\u001b[39m\u001b[39mpyglet.window\u001b[39m\u001b[39m'\u001b[39m \u001b[39mnot\u001b[39;00m \u001b[39min\u001b[39;00m _sys\u001b[39m.\u001b[39mmodules \u001b[39mand\u001b[39;00m _pyglet\u001b[39m.\u001b[39moptions[\u001b[39m'\u001b[39m\u001b[39mshadow_window\u001b[39m\u001b[39m'\u001b[39m]:\n\u001b[1;32m    189\u001b[0m     \u001b[39m# trickery is for circular import\u001b[39;00m\n\u001b[1;32m    190\u001b[0m     _pyglet\u001b[39m.\u001b[39mgl \u001b[39m=\u001b[39m _sys\u001b[39m.\u001b[39mmodules[\u001b[39m__name__\u001b[39m]\n\u001b[0;32m--> 191\u001b[0m     \u001b[39mimport\u001b[39;00m \u001b[39mpyglet\u001b[39;00m\u001b[39m.\u001b[39;00m\u001b[39mwindow\u001b[39;00m\n",
      "File \u001b[0;32m~/anaconda3/envs/ddpm/lib/python3.10/site-packages/pyglet/window/__init__.py:1887\u001b[0m\n\u001b[1;32m   1885\u001b[0m \u001b[39mif\u001b[39;00m \u001b[39mnot\u001b[39;00m _is_pyglet_doc_run:\n\u001b[1;32m   1886\u001b[0m     pyglet\u001b[39m.\u001b[39mwindow \u001b[39m=\u001b[39m sys\u001b[39m.\u001b[39mmodules[\u001b[39m__name__\u001b[39m]\n\u001b[0;32m-> 1887\u001b[0m     gl\u001b[39m.\u001b[39;49m_create_shadow_window()\n",
      "File \u001b[0;32m~/anaconda3/envs/ddpm/lib/python3.10/site-packages/pyglet/gl/__init__.py:165\u001b[0m, in \u001b[0;36m_create_shadow_window\u001b[0;34m()\u001b[0m\n\u001b[1;32m    162\u001b[0m \u001b[39m        \u001b[39m\u001b[39m\"\"\"Shadow window does not need a projection.\"\"\"\u001b[39;00m\n\u001b[1;32m    163\u001b[0m         \u001b[39mpass\u001b[39;00m\n\u001b[0;32m--> 165\u001b[0m _shadow_window \u001b[39m=\u001b[39m ShadowWindow()\n\u001b[1;32m    166\u001b[0m _shadow_window\u001b[39m.\u001b[39mswitch_to()\n\u001b[1;32m    168\u001b[0m \u001b[39mfrom\u001b[39;00m \u001b[39mpyglet\u001b[39;00m \u001b[39mimport\u001b[39;00m app\n",
      "File \u001b[0;32m~/anaconda3/envs/ddpm/lib/python3.10/site-packages/pyglet/gl/__init__.py:159\u001b[0m, in \u001b[0;36m_create_shadow_window.<locals>.ShadowWindow.__init__\u001b[0;34m(self)\u001b[0m\n\u001b[1;32m    158\u001b[0m \u001b[39mdef\u001b[39;00m \u001b[39m__init__\u001b[39m(\u001b[39mself\u001b[39m):\n\u001b[0;32m--> 159\u001b[0m     \u001b[39msuper\u001b[39;49m()\u001b[39m.\u001b[39;49m\u001b[39m__init__\u001b[39;49m(width\u001b[39m=\u001b[39;49m\u001b[39m1\u001b[39;49m, height\u001b[39m=\u001b[39;49m\u001b[39m1\u001b[39;49m, visible\u001b[39m=\u001b[39;49m\u001b[39mFalse\u001b[39;49;00m)\n",
      "File \u001b[0;32m~/anaconda3/envs/ddpm/lib/python3.10/site-packages/pyglet/window/xlib/__init__.py:133\u001b[0m, in \u001b[0;36mXlibWindow.__init__\u001b[0;34m(self, *args, **kwargs)\u001b[0m\n\u001b[1;32m    130\u001b[0m         \u001b[39melse\u001b[39;00m:\n\u001b[1;32m    131\u001b[0m             \u001b[39mself\u001b[39m\u001b[39m.\u001b[39m_event_handlers[message] \u001b[39m=\u001b[39m func\n\u001b[0;32m--> 133\u001b[0m \u001b[39msuper\u001b[39;49m(XlibWindow, \u001b[39mself\u001b[39;49m)\u001b[39m.\u001b[39;49m\u001b[39m__init__\u001b[39;49m(\u001b[39m*\u001b[39;49margs, \u001b[39m*\u001b[39;49m\u001b[39m*\u001b[39;49mkwargs)\n\u001b[1;32m    135\u001b[0m \u001b[39mglobal\u001b[39;00m _can_detect_autorepeat\n\u001b[1;32m    136\u001b[0m \u001b[39mif\u001b[39;00m _can_detect_autorepeat \u001b[39mis\u001b[39;00m \u001b[39mNone\u001b[39;00m:\n",
      "File \u001b[0;32m~/anaconda3/envs/ddpm/lib/python3.10/site-packages/pyglet/window/__init__.py:513\u001b[0m, in \u001b[0;36mBaseWindow.__init__\u001b[0;34m(self, width, height, caption, resizable, style, fullscreen, visible, vsync, file_drops, display, screen, config, context, mode)\u001b[0m\n\u001b[1;32m    510\u001b[0m \u001b[39mself\u001b[39m\u001b[39m.\u001b[39m_event_queue \u001b[39m=\u001b[39m []\n\u001b[1;32m    512\u001b[0m \u001b[39mif\u001b[39;00m \u001b[39mnot\u001b[39;00m display:\n\u001b[0;32m--> 513\u001b[0m     display \u001b[39m=\u001b[39m pyglet\u001b[39m.\u001b[39;49mcanvas\u001b[39m.\u001b[39;49mget_display()\n\u001b[1;32m    515\u001b[0m \u001b[39mif\u001b[39;00m \u001b[39mnot\u001b[39;00m screen:\n\u001b[1;32m    516\u001b[0m     screen \u001b[39m=\u001b[39m display\u001b[39m.\u001b[39mget_default_screen()\n",
      "File \u001b[0;32m~/anaconda3/envs/ddpm/lib/python3.10/site-packages/pyglet/canvas/__init__.py:59\u001b[0m, in \u001b[0;36mget_display\u001b[0;34m()\u001b[0m\n\u001b[1;32m     56\u001b[0m     \u001b[39mreturn\u001b[39;00m display\n\u001b[1;32m     58\u001b[0m \u001b[39m# Otherwise, create a new display and return it.\u001b[39;00m\n\u001b[0;32m---> 59\u001b[0m \u001b[39mreturn\u001b[39;00m Display()\n",
      "File \u001b[0;32m~/anaconda3/envs/ddpm/lib/python3.10/site-packages/pyglet/canvas/xlib.py:88\u001b[0m, in \u001b[0;36mXlibDisplay.__init__\u001b[0;34m(self, name, x_screen)\u001b[0m\n\u001b[1;32m     86\u001b[0m \u001b[39mself\u001b[39m\u001b[39m.\u001b[39m_display \u001b[39m=\u001b[39m xlib\u001b[39m.\u001b[39mXOpenDisplay(name)\n\u001b[1;32m     87\u001b[0m \u001b[39mif\u001b[39;00m \u001b[39mnot\u001b[39;00m \u001b[39mself\u001b[39m\u001b[39m.\u001b[39m_display:\n\u001b[0;32m---> 88\u001b[0m     \u001b[39mraise\u001b[39;00m NoSuchDisplayException(\u001b[39mf\u001b[39m\u001b[39m'\u001b[39m\u001b[39mCannot connect to \u001b[39m\u001b[39m\"\u001b[39m\u001b[39m{\u001b[39;00mname\u001b[39m}\u001b[39;00m\u001b[39m\"\u001b[39m\u001b[39m'\u001b[39m)\n\u001b[1;32m     90\u001b[0m screen_count \u001b[39m=\u001b[39m xlib\u001b[39m.\u001b[39mXScreenCount(\u001b[39mself\u001b[39m\u001b[39m.\u001b[39m_display)\n\u001b[1;32m     91\u001b[0m \u001b[39mif\u001b[39;00m x_screen \u001b[39m>\u001b[39m\u001b[39m=\u001b[39m screen_count:\n",
      "\u001b[0;31mNoSuchDisplayException\u001b[0m: Cannot connect to \"None\""
     ]
    }
   ],
   "source": [
    "import os\n",
    "import gym\n",
    "from stable_baselines3 import SAC\n",
    "from stable_baselines3.common.env_util import make_vec_env\n",
    "from stable_baselines3.common.vec_env import VecVideoRecorder, DummyVecEnv\n",
    "import platform\n",
    "if platform.system() == \"Linux\":\n",
    "    os.environ['PYOPENGL_PLATFORM'] = 'egl'\n",
    "\n",
    "### Select environment\n",
    "env_id = \"MountainCarContinuous-v0\"\n",
    "# Note that the algorithm is SAC\n",
    "\n",
    "\n",
    "\n",
    "\n",
    "video_folder = 'logs/videos/'\n",
    "os.makedirs(video_folder, exist_ok=True)\n",
    "\n",
    "env = make_vec_env(env_id, n_envs=1)\n",
    "best_model = SAC.load('rl-trained-agents/sac/' + \n",
    "                      env_id + '_1/' + \n",
    "                      env_id + '.zip', env=env)\n",
    "\n",
    "video_length = 1000\n",
    "video_env = VecVideoRecorder(env, video_folder,\n",
    "                       record_video_trigger=lambda x: x == 0, video_length=video_length,\n",
    "                       name_prefix=\"random-agent-{}\".format(env_id))\n",
    "\n",
    "video_env.reset()\n",
    "for i in range(video_length + 1):\n",
    "    print(i)\n",
    "    action, _states = best_model.predict(obs)\n",
    "    obs, _, _, _ = video_env.step(action)\n",
    "video_env.close()\n",
    "\n",
    "# obs = env.reset()\n",
    "# done = False \n",
    "\n",
    "# for i in range(100):\n",
    "#     obs = env.reset()\n",
    "#     done = False \n",
    "#     while not done:\n",
    "#         action, _= best_model.predict(obs)\n",
    "#         obs, reward, done, info = env.step(action)\n",
    "#         if done:\n",
    "#             print(\"reward at the end of the episode : \", reward)"
   ]
  },
  {
   "cell_type": "code",
   "execution_count": null,
   "metadata": {},
   "outputs": [],
   "source": []
  }
 ],
 "metadata": {
  "kernelspec": {
   "display_name": "ddpm",
   "language": "python",
   "name": "python3"
  },
  "language_info": {
   "codemirror_mode": {
    "name": "ipython",
    "version": 3
   },
   "file_extension": ".py",
   "mimetype": "text/x-python",
   "name": "python",
   "nbconvert_exporter": "python",
   "pygments_lexer": "ipython3",
   "version": "3.10.11"
  },
  "orig_nbformat": 4
 },
 "nbformat": 4,
 "nbformat_minor": 2
}
